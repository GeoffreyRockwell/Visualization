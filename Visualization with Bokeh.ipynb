{
 "cells": [
  {
   "cell_type": "markdown",
   "metadata": {},
   "source": [
    "# Visualization\n",
    "This notebook is to show how Bokeh can be used for visualization."
   ]
  },
  {
   "cell_type": "markdown",
   "metadata": {},
   "source": [
    "## Some Links:\n",
    "https://hub.mybinder.org/user/bokeh-bokeh-notebooks-pjm1d0t1/notebooks/tutorial/00%20-%20Introduction%20and%20Setup.ipynb"
   ]
  },
  {
   "cell_type": "code",
   "execution_count": 1,
   "metadata": {},
   "outputs": [],
   "source": [
    "import matplotlib.pyplot as plt\n",
    "import numpy\n",
    "# %matplotlib inline"
   ]
  },
  {
   "cell_type": "code",
   "execution_count": 27,
   "metadata": {},
   "outputs": [],
   "source": [
    "import bokeh\n",
    "from bokeh.plotting import figure, show\n",
    "from bokeh.io import save, output_notebook"
   ]
  },
  {
   "cell_type": "code",
   "execution_count": 34,
   "metadata": {},
   "outputs": [
    {
     "data": {
      "text/html": [
       "\n",
       "    <div class=\"bk-root\">\n",
       "        <a href=\"https://bokeh.pydata.org\" target=\"_blank\" class=\"bk-logo bk-logo-small bk-logo-notebook\"></a>\n",
       "        <span id=\"8344a3bb-e685-4b43-85d7-d72cd1aa852b\">Loading BokehJS ...</span>\n",
       "    </div>"
      ]
     },
     "metadata": {},
     "output_type": "display_data"
    },
    {
     "data": {
      "application/javascript": [
       "\n",
       "(function(root) {\n",
       "  function now() {\n",
       "    return new Date();\n",
       "  }\n",
       "\n",
       "  var force = true;\n",
       "\n",
       "  if (typeof (root._bokeh_onload_callbacks) === \"undefined\" || force === true) {\n",
       "    root._bokeh_onload_callbacks = [];\n",
       "    root._bokeh_is_loading = undefined;\n",
       "  }\n",
       "\n",
       "  var JS_MIME_TYPE = 'application/javascript';\n",
       "  var HTML_MIME_TYPE = 'text/html';\n",
       "  var EXEC_MIME_TYPE = 'application/vnd.bokehjs_exec.v0+json';\n",
       "  var CLASS_NAME = 'output_bokeh rendered_html';\n",
       "\n",
       "  /**\n",
       "   * Render data to the DOM node\n",
       "   */\n",
       "  function render(props, node) {\n",
       "    var script = document.createElement(\"script\");\n",
       "    node.appendChild(script);\n",
       "  }\n",
       "\n",
       "  /**\n",
       "   * Handle when an output is cleared or removed\n",
       "   */\n",
       "  function handleClearOutput(event, handle) {\n",
       "    var cell = handle.cell;\n",
       "\n",
       "    var id = cell.output_area._bokeh_element_id;\n",
       "    var server_id = cell.output_area._bokeh_server_id;\n",
       "    // Clean up Bokeh references\n",
       "    if (id !== undefined) {\n",
       "      Bokeh.index[id].model.document.clear();\n",
       "      delete Bokeh.index[id];\n",
       "    }\n",
       "\n",
       "    if (server_id !== undefined) {\n",
       "      // Clean up Bokeh references\n",
       "      var cmd = \"from bokeh.io.state import curstate; print(curstate().uuid_to_server['\" + server_id + \"'].get_sessions()[0].document.roots[0]._id)\";\n",
       "      cell.notebook.kernel.execute(cmd, {\n",
       "        iopub: {\n",
       "          output: function(msg) {\n",
       "            var element_id = msg.content.text.trim();\n",
       "            Bokeh.index[element_id].model.document.clear();\n",
       "            delete Bokeh.index[element_id];\n",
       "          }\n",
       "        }\n",
       "      });\n",
       "      // Destroy server and session\n",
       "      var cmd = \"import bokeh.io.notebook as ion; ion.destroy_server('\" + server_id + \"')\";\n",
       "      cell.notebook.kernel.execute(cmd);\n",
       "    }\n",
       "  }\n",
       "\n",
       "  /**\n",
       "   * Handle when a new output is added\n",
       "   */\n",
       "  function handleAddOutput(event, handle) {\n",
       "    var output_area = handle.output_area;\n",
       "    var output = handle.output;\n",
       "\n",
       "    // limit handleAddOutput to display_data with EXEC_MIME_TYPE content only\n",
       "    if ((output.output_type != \"display_data\") || (!output.data.hasOwnProperty(EXEC_MIME_TYPE))) {\n",
       "      return\n",
       "    }\n",
       "\n",
       "    var toinsert = output_area.element.find(\".\" + CLASS_NAME.split(' ')[0]);\n",
       "\n",
       "    if (output.metadata[EXEC_MIME_TYPE][\"id\"] !== undefined) {\n",
       "      toinsert[toinsert.length - 1].firstChild.textContent = output.data[JS_MIME_TYPE];\n",
       "      // store reference to embed id on output_area\n",
       "      output_area._bokeh_element_id = output.metadata[EXEC_MIME_TYPE][\"id\"];\n",
       "    }\n",
       "    if (output.metadata[EXEC_MIME_TYPE][\"server_id\"] !== undefined) {\n",
       "      var bk_div = document.createElement(\"div\");\n",
       "      bk_div.innerHTML = output.data[HTML_MIME_TYPE];\n",
       "      var script_attrs = bk_div.children[0].attributes;\n",
       "      for (var i = 0; i < script_attrs.length; i++) {\n",
       "        toinsert[toinsert.length - 1].firstChild.setAttribute(script_attrs[i].name, script_attrs[i].value);\n",
       "      }\n",
       "      // store reference to server id on output_area\n",
       "      output_area._bokeh_server_id = output.metadata[EXEC_MIME_TYPE][\"server_id\"];\n",
       "    }\n",
       "  }\n",
       "\n",
       "  function register_renderer(events, OutputArea) {\n",
       "\n",
       "    function append_mime(data, metadata, element) {\n",
       "      // create a DOM node to render to\n",
       "      var toinsert = this.create_output_subarea(\n",
       "        metadata,\n",
       "        CLASS_NAME,\n",
       "        EXEC_MIME_TYPE\n",
       "      );\n",
       "      this.keyboard_manager.register_events(toinsert);\n",
       "      // Render to node\n",
       "      var props = {data: data, metadata: metadata[EXEC_MIME_TYPE]};\n",
       "      render(props, toinsert[toinsert.length - 1]);\n",
       "      element.append(toinsert);\n",
       "      return toinsert\n",
       "    }\n",
       "\n",
       "    /* Handle when an output is cleared or removed */\n",
       "    events.on('clear_output.CodeCell', handleClearOutput);\n",
       "    events.on('delete.Cell', handleClearOutput);\n",
       "\n",
       "    /* Handle when a new output is added */\n",
       "    events.on('output_added.OutputArea', handleAddOutput);\n",
       "\n",
       "    /**\n",
       "     * Register the mime type and append_mime function with output_area\n",
       "     */\n",
       "    OutputArea.prototype.register_mime_type(EXEC_MIME_TYPE, append_mime, {\n",
       "      /* Is output safe? */\n",
       "      safe: true,\n",
       "      /* Index of renderer in `output_area.display_order` */\n",
       "      index: 0\n",
       "    });\n",
       "  }\n",
       "\n",
       "  // register the mime type if in Jupyter Notebook environment and previously unregistered\n",
       "  if (root.Jupyter !== undefined) {\n",
       "    var events = require('base/js/events');\n",
       "    var OutputArea = require('notebook/js/outputarea').OutputArea;\n",
       "\n",
       "    if (OutputArea.prototype.mime_types().indexOf(EXEC_MIME_TYPE) == -1) {\n",
       "      register_renderer(events, OutputArea);\n",
       "    }\n",
       "  }\n",
       "\n",
       "  \n",
       "  if (typeof (root._bokeh_timeout) === \"undefined\" || force === true) {\n",
       "    root._bokeh_timeout = Date.now() + 5000;\n",
       "    root._bokeh_failed_load = false;\n",
       "  }\n",
       "\n",
       "  var NB_LOAD_WARNING = {'data': {'text/html':\n",
       "     \"<div style='background-color: #fdd'>\\n\"+\n",
       "     \"<p>\\n\"+\n",
       "     \"BokehJS does not appear to have successfully loaded. If loading BokehJS from CDN, this \\n\"+\n",
       "     \"may be due to a slow or bad network connection. Possible fixes:\\n\"+\n",
       "     \"</p>\\n\"+\n",
       "     \"<ul>\\n\"+\n",
       "     \"<li>re-rerun `output_notebook()` to attempt to load from CDN again, or</li>\\n\"+\n",
       "     \"<li>use INLINE resources instead, as so:</li>\\n\"+\n",
       "     \"</ul>\\n\"+\n",
       "     \"<code>\\n\"+\n",
       "     \"from bokeh.resources import INLINE\\n\"+\n",
       "     \"output_notebook(resources=INLINE)\\n\"+\n",
       "     \"</code>\\n\"+\n",
       "     \"</div>\"}};\n",
       "\n",
       "  function display_loaded() {\n",
       "    var el = document.getElementById(\"8344a3bb-e685-4b43-85d7-d72cd1aa852b\");\n",
       "    if (el != null) {\n",
       "      el.textContent = \"BokehJS is loading...\";\n",
       "    }\n",
       "    if (root.Bokeh !== undefined) {\n",
       "      if (el != null) {\n",
       "        el.textContent = \"BokehJS \" + root.Bokeh.version + \" successfully loaded.\";\n",
       "      }\n",
       "    } else if (Date.now() < root._bokeh_timeout) {\n",
       "      setTimeout(display_loaded, 100)\n",
       "    }\n",
       "  }\n",
       "\n",
       "\n",
       "  function run_callbacks() {\n",
       "    try {\n",
       "      root._bokeh_onload_callbacks.forEach(function(callback) { callback() });\n",
       "    }\n",
       "    finally {\n",
       "      delete root._bokeh_onload_callbacks\n",
       "    }\n",
       "    console.info(\"Bokeh: all callbacks have finished\");\n",
       "  }\n",
       "\n",
       "  function load_libs(js_urls, callback) {\n",
       "    root._bokeh_onload_callbacks.push(callback);\n",
       "    if (root._bokeh_is_loading > 0) {\n",
       "      console.log(\"Bokeh: BokehJS is being loaded, scheduling callback at\", now());\n",
       "      return null;\n",
       "    }\n",
       "    if (js_urls == null || js_urls.length === 0) {\n",
       "      run_callbacks();\n",
       "      return null;\n",
       "    }\n",
       "    console.log(\"Bokeh: BokehJS not loaded, scheduling load and callback at\", now());\n",
       "    root._bokeh_is_loading = js_urls.length;\n",
       "    for (var i = 0; i < js_urls.length; i++) {\n",
       "      var url = js_urls[i];\n",
       "      var s = document.createElement('script');\n",
       "      s.src = url;\n",
       "      s.async = false;\n",
       "      s.onreadystatechange = s.onload = function() {\n",
       "        root._bokeh_is_loading--;\n",
       "        if (root._bokeh_is_loading === 0) {\n",
       "          console.log(\"Bokeh: all BokehJS libraries loaded\");\n",
       "          run_callbacks()\n",
       "        }\n",
       "      };\n",
       "      s.onerror = function() {\n",
       "        console.warn(\"failed to load library \" + url);\n",
       "      };\n",
       "      console.log(\"Bokeh: injecting script tag for BokehJS library: \", url);\n",
       "      document.getElementsByTagName(\"head\")[0].appendChild(s);\n",
       "    }\n",
       "  };var element = document.getElementById(\"8344a3bb-e685-4b43-85d7-d72cd1aa852b\");\n",
       "  if (element == null) {\n",
       "    console.log(\"Bokeh: ERROR: autoload.js configured with elementid '8344a3bb-e685-4b43-85d7-d72cd1aa852b' but no matching script tag was found. \")\n",
       "    return false;\n",
       "  }\n",
       "\n",
       "  var js_urls = [\"https://cdn.pydata.org/bokeh/release/bokeh-0.12.16.min.js\", \"https://cdn.pydata.org/bokeh/release/bokeh-widgets-0.12.16.min.js\", \"https://cdn.pydata.org/bokeh/release/bokeh-tables-0.12.16.min.js\", \"https://cdn.pydata.org/bokeh/release/bokeh-gl-0.12.16.min.js\"];\n",
       "\n",
       "  var inline_js = [\n",
       "    function(Bokeh) {\n",
       "      Bokeh.set_log_level(\"info\");\n",
       "    },\n",
       "    \n",
       "    function(Bokeh) {\n",
       "      \n",
       "    },\n",
       "    function(Bokeh) {\n",
       "      console.log(\"Bokeh: injecting CSS: https://cdn.pydata.org/bokeh/release/bokeh-0.12.16.min.css\");\n",
       "      Bokeh.embed.inject_css(\"https://cdn.pydata.org/bokeh/release/bokeh-0.12.16.min.css\");\n",
       "      console.log(\"Bokeh: injecting CSS: https://cdn.pydata.org/bokeh/release/bokeh-widgets-0.12.16.min.css\");\n",
       "      Bokeh.embed.inject_css(\"https://cdn.pydata.org/bokeh/release/bokeh-widgets-0.12.16.min.css\");\n",
       "      console.log(\"Bokeh: injecting CSS: https://cdn.pydata.org/bokeh/release/bokeh-tables-0.12.16.min.css\");\n",
       "      Bokeh.embed.inject_css(\"https://cdn.pydata.org/bokeh/release/bokeh-tables-0.12.16.min.css\");\n",
       "    }\n",
       "  ];\n",
       "\n",
       "  function run_inline_js() {\n",
       "    \n",
       "    if ((root.Bokeh !== undefined) || (force === true)) {\n",
       "      for (var i = 0; i < inline_js.length; i++) {\n",
       "        inline_js[i].call(root, root.Bokeh);\n",
       "      }if (force === true) {\n",
       "        display_loaded();\n",
       "      }} else if (Date.now() < root._bokeh_timeout) {\n",
       "      setTimeout(run_inline_js, 100);\n",
       "    } else if (!root._bokeh_failed_load) {\n",
       "      console.log(\"Bokeh: BokehJS failed to load within specified timeout.\");\n",
       "      root._bokeh_failed_load = true;\n",
       "    } else if (force !== true) {\n",
       "      var cell = $(document.getElementById(\"8344a3bb-e685-4b43-85d7-d72cd1aa852b\")).parents('.cell').data().cell;\n",
       "      cell.output_area.append_execute_result(NB_LOAD_WARNING)\n",
       "    }\n",
       "\n",
       "  }\n",
       "\n",
       "  if (root._bokeh_is_loading === 0) {\n",
       "    console.log(\"Bokeh: BokehJS loaded, going straight to plotting\");\n",
       "    run_inline_js();\n",
       "  } else {\n",
       "    load_libs(js_urls, function() {\n",
       "      console.log(\"Bokeh: BokehJS plotting callback run at\", now());\n",
       "      run_inline_js();\n",
       "    });\n",
       "  }\n",
       "}(window));"
      ],
      "application/vnd.bokehjs_load.v0+json": "\n(function(root) {\n  function now() {\n    return new Date();\n  }\n\n  var force = true;\n\n  if (typeof (root._bokeh_onload_callbacks) === \"undefined\" || force === true) {\n    root._bokeh_onload_callbacks = [];\n    root._bokeh_is_loading = undefined;\n  }\n\n  \n\n  \n  if (typeof (root._bokeh_timeout) === \"undefined\" || force === true) {\n    root._bokeh_timeout = Date.now() + 5000;\n    root._bokeh_failed_load = false;\n  }\n\n  var NB_LOAD_WARNING = {'data': {'text/html':\n     \"<div style='background-color: #fdd'>\\n\"+\n     \"<p>\\n\"+\n     \"BokehJS does not appear to have successfully loaded. If loading BokehJS from CDN, this \\n\"+\n     \"may be due to a slow or bad network connection. Possible fixes:\\n\"+\n     \"</p>\\n\"+\n     \"<ul>\\n\"+\n     \"<li>re-rerun `output_notebook()` to attempt to load from CDN again, or</li>\\n\"+\n     \"<li>use INLINE resources instead, as so:</li>\\n\"+\n     \"</ul>\\n\"+\n     \"<code>\\n\"+\n     \"from bokeh.resources import INLINE\\n\"+\n     \"output_notebook(resources=INLINE)\\n\"+\n     \"</code>\\n\"+\n     \"</div>\"}};\n\n  function display_loaded() {\n    var el = document.getElementById(\"8344a3bb-e685-4b43-85d7-d72cd1aa852b\");\n    if (el != null) {\n      el.textContent = \"BokehJS is loading...\";\n    }\n    if (root.Bokeh !== undefined) {\n      if (el != null) {\n        el.textContent = \"BokehJS \" + root.Bokeh.version + \" successfully loaded.\";\n      }\n    } else if (Date.now() < root._bokeh_timeout) {\n      setTimeout(display_loaded, 100)\n    }\n  }\n\n\n  function run_callbacks() {\n    try {\n      root._bokeh_onload_callbacks.forEach(function(callback) { callback() });\n    }\n    finally {\n      delete root._bokeh_onload_callbacks\n    }\n    console.info(\"Bokeh: all callbacks have finished\");\n  }\n\n  function load_libs(js_urls, callback) {\n    root._bokeh_onload_callbacks.push(callback);\n    if (root._bokeh_is_loading > 0) {\n      console.log(\"Bokeh: BokehJS is being loaded, scheduling callback at\", now());\n      return null;\n    }\n    if (js_urls == null || js_urls.length === 0) {\n      run_callbacks();\n      return null;\n    }\n    console.log(\"Bokeh: BokehJS not loaded, scheduling load and callback at\", now());\n    root._bokeh_is_loading = js_urls.length;\n    for (var i = 0; i < js_urls.length; i++) {\n      var url = js_urls[i];\n      var s = document.createElement('script');\n      s.src = url;\n      s.async = false;\n      s.onreadystatechange = s.onload = function() {\n        root._bokeh_is_loading--;\n        if (root._bokeh_is_loading === 0) {\n          console.log(\"Bokeh: all BokehJS libraries loaded\");\n          run_callbacks()\n        }\n      };\n      s.onerror = function() {\n        console.warn(\"failed to load library \" + url);\n      };\n      console.log(\"Bokeh: injecting script tag for BokehJS library: \", url);\n      document.getElementsByTagName(\"head\")[0].appendChild(s);\n    }\n  };var element = document.getElementById(\"8344a3bb-e685-4b43-85d7-d72cd1aa852b\");\n  if (element == null) {\n    console.log(\"Bokeh: ERROR: autoload.js configured with elementid '8344a3bb-e685-4b43-85d7-d72cd1aa852b' but no matching script tag was found. \")\n    return false;\n  }\n\n  var js_urls = [\"https://cdn.pydata.org/bokeh/release/bokeh-0.12.16.min.js\", \"https://cdn.pydata.org/bokeh/release/bokeh-widgets-0.12.16.min.js\", \"https://cdn.pydata.org/bokeh/release/bokeh-tables-0.12.16.min.js\", \"https://cdn.pydata.org/bokeh/release/bokeh-gl-0.12.16.min.js\"];\n\n  var inline_js = [\n    function(Bokeh) {\n      Bokeh.set_log_level(\"info\");\n    },\n    \n    function(Bokeh) {\n      \n    },\n    function(Bokeh) {\n      console.log(\"Bokeh: injecting CSS: https://cdn.pydata.org/bokeh/release/bokeh-0.12.16.min.css\");\n      Bokeh.embed.inject_css(\"https://cdn.pydata.org/bokeh/release/bokeh-0.12.16.min.css\");\n      console.log(\"Bokeh: injecting CSS: https://cdn.pydata.org/bokeh/release/bokeh-widgets-0.12.16.min.css\");\n      Bokeh.embed.inject_css(\"https://cdn.pydata.org/bokeh/release/bokeh-widgets-0.12.16.min.css\");\n      console.log(\"Bokeh: injecting CSS: https://cdn.pydata.org/bokeh/release/bokeh-tables-0.12.16.min.css\");\n      Bokeh.embed.inject_css(\"https://cdn.pydata.org/bokeh/release/bokeh-tables-0.12.16.min.css\");\n    }\n  ];\n\n  function run_inline_js() {\n    \n    if ((root.Bokeh !== undefined) || (force === true)) {\n      for (var i = 0; i < inline_js.length; i++) {\n        inline_js[i].call(root, root.Bokeh);\n      }if (force === true) {\n        display_loaded();\n      }} else if (Date.now() < root._bokeh_timeout) {\n      setTimeout(run_inline_js, 100);\n    } else if (!root._bokeh_failed_load) {\n      console.log(\"Bokeh: BokehJS failed to load within specified timeout.\");\n      root._bokeh_failed_load = true;\n    } else if (force !== true) {\n      var cell = $(document.getElementById(\"8344a3bb-e685-4b43-85d7-d72cd1aa852b\")).parents('.cell').data().cell;\n      cell.output_area.append_execute_result(NB_LOAD_WARNING)\n    }\n\n  }\n\n  if (root._bokeh_is_loading === 0) {\n    console.log(\"Bokeh: BokehJS loaded, going straight to plotting\");\n    run_inline_js();\n  } else {\n    load_libs(js_urls, function() {\n      console.log(\"Bokeh: BokehJS plotting callback run at\", now());\n      run_inline_js();\n    });\n  }\n}(window));"
     },
     "metadata": {},
     "output_type": "display_data"
    },
    {
     "data": {
      "text/html": [
       "\n",
       "<div class=\"bk-root\">\n",
       "    <div class=\"bk-plotdiv\" id=\"20946139-cb29-4cf8-9e4c-a0d370dac72e\"></div>\n",
       "</div>"
      ]
     },
     "metadata": {},
     "output_type": "display_data"
    },
    {
     "data": {
      "application/javascript": [
       "(function(root) {\n",
       "  function embed_document(root) {\n",
       "    \n",
       "  var docs_json = {\"0f65f223-a93d-4da7-95a5-70c8bad07063\":{\"roots\":{\"references\":[{\"attributes\":{},\"id\":\"4831e10b-fffd-4976-9c7d-b96aa252ea29\",\"type\":\"BasicTicker\"},{\"attributes\":{\"axis_label\":\"y\",\"formatter\":{\"id\":\"325e710e-c5d7-470f-9b0f-9fb65c230776\",\"type\":\"BasicTickFormatter\"},\"plot\":{\"id\":\"fc8d6656-e233-4ea4-887c-ed56d2c22d13\",\"subtype\":\"Figure\",\"type\":\"Plot\"},\"ticker\":{\"id\":\"684ec95a-fd99-42c2-8f55-1e105abf4dfd\",\"type\":\"BasicTicker\"}},\"id\":\"568e6016-e73b-47eb-911a-00516470c289\",\"type\":\"LinearAxis\"},{\"attributes\":{},\"id\":\"dcc48f39-e542-4bb0-9836-612921f29ad3\",\"type\":\"LinearScale\"},{\"attributes\":{\"callback\":null,\"data\":{\"x\":[1,2,3,4,5],\"y\":[6,7,2,4,5]},\"selected\":{\"id\":\"1ade9ff9-24cc-463d-91df-7c07842bf5ae\",\"type\":\"Selection\"},\"selection_policy\":{\"id\":\"d113aab8-47f7-4cf6-a220-25869d348cd2\",\"type\":\"UnionRenderers\"}},\"id\":\"b79861b2-f59a-4494-b9b9-00231b4a1140\",\"type\":\"ColumnDataSource\"},{\"attributes\":{\"label\":{\"value\":\"Line 1\"},\"renderers\":[{\"id\":\"e5f8675d-fc91-426e-bc4a-ac8d469f27fe\",\"type\":\"GlyphRenderer\"}]},\"id\":\"19a77bfa-4d42-4dcf-af01-1a785f23568e\",\"type\":\"LegendItem\"},{\"attributes\":{\"source\":{\"id\":\"3d08326a-70d8-47e5-bfed-f785266871c7\",\"type\":\"ColumnDataSource\"}},\"id\":\"635281d6-d5f1-4795-a9cb-2b9685e10e68\",\"type\":\"CDSView\"},{\"attributes\":{},\"id\":\"167d544d-b5a6-4e9e-8500-56439cfcd734\",\"type\":\"HelpTool\"},{\"attributes\":{},\"id\":\"d113aab8-47f7-4cf6-a220-25869d348cd2\",\"type\":\"UnionRenderers\"},{\"attributes\":{\"line_color\":\"#1f77b4\",\"line_width\":2,\"x\":{\"field\":\"x\"},\"y\":{\"field\":\"y\"}},\"id\":\"964e9fa4-ade1-4914-8255-94271ca25ff2\",\"type\":\"Line\"},{\"attributes\":{\"label\":{\"value\":\"Line 2\"},\"renderers\":[{\"id\":\"5acbe2f2-0bd3-4e8a-b6ec-4b51a3909f0b\",\"type\":\"GlyphRenderer\"}]},\"id\":\"bc712cda-c352-4205-9831-4a8779176780\",\"type\":\"LegendItem\"},{\"attributes\":{\"data_source\":{\"id\":\"3d08326a-70d8-47e5-bfed-f785266871c7\",\"type\":\"ColumnDataSource\"},\"glyph\":{\"id\":\"f1ec6f0a-197a-403e-820d-3b50337b5c16\",\"type\":\"Line\"},\"hover_glyph\":null,\"muted_glyph\":null,\"nonselection_glyph\":{\"id\":\"79cc4cce-125d-4ff6-815e-6ecb6d201f5a\",\"type\":\"Line\"},\"selection_glyph\":null,\"view\":{\"id\":\"635281d6-d5f1-4795-a9cb-2b9685e10e68\",\"type\":\"CDSView\"}},\"id\":\"5acbe2f2-0bd3-4e8a-b6ec-4b51a3909f0b\",\"type\":\"GlyphRenderer\"},{\"attributes\":{\"below\":[{\"id\":\"c7bead34-87db-4e47-9ef1-6ce327bdd6a4\",\"type\":\"LinearAxis\"}],\"left\":[{\"id\":\"568e6016-e73b-47eb-911a-00516470c289\",\"type\":\"LinearAxis\"}],\"renderers\":[{\"id\":\"c7bead34-87db-4e47-9ef1-6ce327bdd6a4\",\"type\":\"LinearAxis\"},{\"id\":\"04ab2990-b498-4f29-be3c-5d6fd848ef7b\",\"type\":\"Grid\"},{\"id\":\"568e6016-e73b-47eb-911a-00516470c289\",\"type\":\"LinearAxis\"},{\"id\":\"ccc057aa-4ca4-49a9-989d-6308a2141f1a\",\"type\":\"Grid\"},{\"id\":\"d1687546-a139-4b13-a7ae-e024ca70af92\",\"type\":\"BoxAnnotation\"},{\"id\":\"cabdee0a-050a-4548-a7f0-188e0a18c790\",\"type\":\"Legend\"},{\"id\":\"e5f8675d-fc91-426e-bc4a-ac8d469f27fe\",\"type\":\"GlyphRenderer\"},{\"id\":\"5acbe2f2-0bd3-4e8a-b6ec-4b51a3909f0b\",\"type\":\"GlyphRenderer\"}],\"title\":{\"id\":\"5d3f9f2e-135d-477f-b0c1-af9cc718be64\",\"type\":\"Title\"},\"toolbar\":{\"id\":\"ce1d9bb5-5a00-4d05-8cad-caf623854305\",\"type\":\"Toolbar\"},\"x_range\":{\"id\":\"b044ad34-7ab7-4146-b0fb-521ae7004b58\",\"type\":\"DataRange1d\"},\"x_scale\":{\"id\":\"dcc48f39-e542-4bb0-9836-612921f29ad3\",\"type\":\"LinearScale\"},\"y_range\":{\"id\":\"f5834643-ce38-4f93-bdc6-202f4ce982ca\",\"type\":\"DataRange1d\"},\"y_scale\":{\"id\":\"75d331a6-4cbc-484e-8501-0aa1c8873d69\",\"type\":\"LinearScale\"}},\"id\":\"fc8d6656-e233-4ea4-887c-ed56d2c22d13\",\"subtype\":\"Figure\",\"type\":\"Plot\"},{\"attributes\":{},\"id\":\"1ade9ff9-24cc-463d-91df-7c07842bf5ae\",\"type\":\"Selection\"},{\"attributes\":{\"line_alpha\":0.1,\"line_color\":\"#1f77b4\",\"line_width\":2,\"x\":{\"field\":\"x\"},\"y\":{\"field\":\"y\"}},\"id\":\"79cc4cce-125d-4ff6-815e-6ecb6d201f5a\",\"type\":\"Line\"},{\"attributes\":{\"bottom_units\":\"screen\",\"fill_alpha\":{\"value\":0.5},\"fill_color\":{\"value\":\"lightgrey\"},\"left_units\":\"screen\",\"level\":\"overlay\",\"line_alpha\":{\"value\":1.0},\"line_color\":{\"value\":\"black\"},\"line_dash\":[4,4],\"line_width\":{\"value\":2},\"plot\":null,\"render_mode\":\"css\",\"right_units\":\"screen\",\"top_units\":\"screen\"},\"id\":\"d1687546-a139-4b13-a7ae-e024ca70af92\",\"type\":\"BoxAnnotation\"},{\"attributes\":{\"dimension\":1,\"plot\":{\"id\":\"fc8d6656-e233-4ea4-887c-ed56d2c22d13\",\"subtype\":\"Figure\",\"type\":\"Plot\"},\"ticker\":{\"id\":\"684ec95a-fd99-42c2-8f55-1e105abf4dfd\",\"type\":\"BasicTicker\"}},\"id\":\"ccc057aa-4ca4-49a9-989d-6308a2141f1a\",\"type\":\"Grid\"},{\"attributes\":{},\"id\":\"adaa0a61-cafc-4f36-83f3-369c66102f33\",\"type\":\"ResetTool\"},{\"attributes\":{\"plot\":null,\"text\":\"simple line example\"},\"id\":\"5d3f9f2e-135d-477f-b0c1-af9cc718be64\",\"type\":\"Title\"},{\"attributes\":{},\"id\":\"0321b070-bacd-480d-9dee-b2b2fd5995a0\",\"type\":\"PanTool\"},{\"attributes\":{\"callback\":null},\"id\":\"f5834643-ce38-4f93-bdc6-202f4ce982ca\",\"type\":\"DataRange1d\"},{\"attributes\":{\"active_drag\":\"auto\",\"active_inspect\":\"auto\",\"active_scroll\":\"auto\",\"active_tap\":\"auto\",\"tools\":[{\"id\":\"0321b070-bacd-480d-9dee-b2b2fd5995a0\",\"type\":\"PanTool\"},{\"id\":\"61bec268-d9c4-43d8-9b5b-43f60a517fe3\",\"type\":\"WheelZoomTool\"},{\"id\":\"7145ca44-21aa-4eca-8089-e241156db493\",\"type\":\"BoxZoomTool\"},{\"id\":\"d42d061b-6a46-4d7d-8969-7a4023baf823\",\"type\":\"SaveTool\"},{\"id\":\"adaa0a61-cafc-4f36-83f3-369c66102f33\",\"type\":\"ResetTool\"},{\"id\":\"167d544d-b5a6-4e9e-8500-56439cfcd734\",\"type\":\"HelpTool\"}]},\"id\":\"ce1d9bb5-5a00-4d05-8cad-caf623854305\",\"type\":\"Toolbar\"},{\"attributes\":{\"overlay\":{\"id\":\"d1687546-a139-4b13-a7ae-e024ca70af92\",\"type\":\"BoxAnnotation\"}},\"id\":\"7145ca44-21aa-4eca-8089-e241156db493\",\"type\":\"BoxZoomTool\"},{\"attributes\":{\"callback\":null},\"id\":\"b044ad34-7ab7-4146-b0fb-521ae7004b58\",\"type\":\"DataRange1d\"},{\"attributes\":{},\"id\":\"61bec268-d9c4-43d8-9b5b-43f60a517fe3\",\"type\":\"WheelZoomTool\"},{\"attributes\":{},\"id\":\"684ec95a-fd99-42c2-8f55-1e105abf4dfd\",\"type\":\"BasicTicker\"},{\"attributes\":{\"items\":[{\"id\":\"19a77bfa-4d42-4dcf-af01-1a785f23568e\",\"type\":\"LegendItem\"},{\"id\":\"bc712cda-c352-4205-9831-4a8779176780\",\"type\":\"LegendItem\"}],\"plot\":{\"id\":\"fc8d6656-e233-4ea4-887c-ed56d2c22d13\",\"subtype\":\"Figure\",\"type\":\"Plot\"}},\"id\":\"cabdee0a-050a-4548-a7f0-188e0a18c790\",\"type\":\"Legend\"},{\"attributes\":{},\"id\":\"d42d061b-6a46-4d7d-8969-7a4023baf823\",\"type\":\"SaveTool\"},{\"attributes\":{},\"id\":\"75d331a6-4cbc-484e-8501-0aa1c8873d69\",\"type\":\"LinearScale\"},{\"attributes\":{\"data_source\":{\"id\":\"b79861b2-f59a-4494-b9b9-00231b4a1140\",\"type\":\"ColumnDataSource\"},\"glyph\":{\"id\":\"964e9fa4-ade1-4914-8255-94271ca25ff2\",\"type\":\"Line\"},\"hover_glyph\":null,\"muted_glyph\":null,\"nonselection_glyph\":{\"id\":\"76aeaba4-5540-4fff-abfd-0401f4f6e207\",\"type\":\"Line\"},\"selection_glyph\":null,\"view\":{\"id\":\"cdb0682b-f3b9-4c20-a431-df9a097146d8\",\"type\":\"CDSView\"}},\"id\":\"e5f8675d-fc91-426e-bc4a-ac8d469f27fe\",\"type\":\"GlyphRenderer\"},{\"attributes\":{\"plot\":{\"id\":\"fc8d6656-e233-4ea4-887c-ed56d2c22d13\",\"subtype\":\"Figure\",\"type\":\"Plot\"},\"ticker\":{\"id\":\"4831e10b-fffd-4976-9c7d-b96aa252ea29\",\"type\":\"BasicTicker\"}},\"id\":\"04ab2990-b498-4f29-be3c-5d6fd848ef7b\",\"type\":\"Grid\"},{\"attributes\":{\"axis_label\":\"x\",\"formatter\":{\"id\":\"1fa6872c-36ff-4b69-88b6-d6bb18efa06f\",\"type\":\"BasicTickFormatter\"},\"plot\":{\"id\":\"fc8d6656-e233-4ea4-887c-ed56d2c22d13\",\"subtype\":\"Figure\",\"type\":\"Plot\"},\"ticker\":{\"id\":\"4831e10b-fffd-4976-9c7d-b96aa252ea29\",\"type\":\"BasicTicker\"}},\"id\":\"c7bead34-87db-4e47-9ef1-6ce327bdd6a4\",\"type\":\"LinearAxis\"},{\"attributes\":{\"line_alpha\":0.1,\"line_color\":\"#1f77b4\",\"line_width\":2,\"x\":{\"field\":\"x\"},\"y\":{\"field\":\"y\"}},\"id\":\"76aeaba4-5540-4fff-abfd-0401f4f6e207\",\"type\":\"Line\"},{\"attributes\":{},\"id\":\"980560ab-5b4a-4440-9acc-5d8e9f0bffd7\",\"type\":\"UnionRenderers\"},{\"attributes\":{\"source\":{\"id\":\"b79861b2-f59a-4494-b9b9-00231b4a1140\",\"type\":\"ColumnDataSource\"}},\"id\":\"cdb0682b-f3b9-4c20-a431-df9a097146d8\",\"type\":\"CDSView\"},{\"attributes\":{},\"id\":\"325e710e-c5d7-470f-9b0f-9fb65c230776\",\"type\":\"BasicTickFormatter\"},{\"attributes\":{},\"id\":\"a13035d3-ea0a-48c6-b06e-dba3a1df797e\",\"type\":\"Selection\"},{\"attributes\":{\"callback\":null,\"data\":{\"x\":[1,2,3,4,5],\"y\":[8,2,2,6,4]},\"selected\":{\"id\":\"a13035d3-ea0a-48c6-b06e-dba3a1df797e\",\"type\":\"Selection\"},\"selection_policy\":{\"id\":\"980560ab-5b4a-4440-9acc-5d8e9f0bffd7\",\"type\":\"UnionRenderers\"}},\"id\":\"3d08326a-70d8-47e5-bfed-f785266871c7\",\"type\":\"ColumnDataSource\"},{\"attributes\":{},\"id\":\"1fa6872c-36ff-4b69-88b6-d6bb18efa06f\",\"type\":\"BasicTickFormatter\"},{\"attributes\":{\"line_color\":\"red\",\"line_width\":2,\"x\":{\"field\":\"x\"},\"y\":{\"field\":\"y\"}},\"id\":\"f1ec6f0a-197a-403e-820d-3b50337b5c16\",\"type\":\"Line\"}],\"root_ids\":[\"fc8d6656-e233-4ea4-887c-ed56d2c22d13\"]},\"title\":\"Bokeh Application\",\"version\":\"0.12.16\"}};\n",
       "  var render_items = [{\"docid\":\"0f65f223-a93d-4da7-95a5-70c8bad07063\",\"elementid\":\"20946139-cb29-4cf8-9e4c-a0d370dac72e\",\"modelid\":\"fc8d6656-e233-4ea4-887c-ed56d2c22d13\"}];\n",
       "  root.Bokeh.embed.embed_items_notebook(docs_json, render_items);\n",
       "\n",
       "  }\n",
       "  if (root.Bokeh !== undefined) {\n",
       "    embed_document(root);\n",
       "  } else {\n",
       "    var attempts = 0;\n",
       "    var timer = setInterval(function(root) {\n",
       "      if (root.Bokeh !== undefined) {\n",
       "        embed_document(root);\n",
       "        clearInterval(timer);\n",
       "      }\n",
       "      attempts++;\n",
       "      if (attempts > 100) {\n",
       "        console.log(\"Bokeh: ERROR: Unable to run BokehJS code because BokehJS library is missing\")\n",
       "        clearInterval(timer);\n",
       "      }\n",
       "    }, 10, root)\n",
       "  }\n",
       "})(window);"
      ],
      "application/vnd.bokehjs_exec.v0+json": ""
     },
     "metadata": {
      "application/vnd.bokehjs_exec.v0+json": {
       "id": "fc8d6656-e233-4ea4-887c-ed56d2c22d13"
      }
     },
     "output_type": "display_data"
    }
   ],
   "source": [
    "# prepare some data\n",
    "x = [1, 2, 3, 4, 5]\n",
    "y = [6, 7, 2, 4, 5]\n",
    "y1 = [8, 2, 2, 6, 4]\n",
    "\n",
    "# output to static HTML file\n",
    "output_notebook()\n",
    "\n",
    "# create a new plot with a title and axis labels\n",
    "plot = figure(title=\"simple line example\", x_axis_label='x', y_axis_label='y')\n",
    "\n",
    "# add a line renderer with legend and line thickness\n",
    "plot.line(x, y, legend=\"Line 1\", line_width=2)\n",
    "plot.line(x, y1, legend=\"Line 2\", line_width=2, line_color=\"red\")\n",
    "\n",
    "# show the results\n",
    "show(plot)"
   ]
  },
  {
   "cell_type": "code",
   "execution_count": 29,
   "metadata": {},
   "outputs": [
    {
     "data": {
      "text/html": [
       "\n",
       "<div class=\"bk-root\">\n",
       "    <div class=\"bk-plotdiv\" id=\"fb57fc28-5aab-464a-bdd0-ecafc58d0e3e\"></div>\n",
       "</div>"
      ]
     },
     "metadata": {},
     "output_type": "display_data"
    },
    {
     "data": {
      "application/javascript": [
       "(function(root) {\n",
       "  function embed_document(root) {\n",
       "    \n",
       "  var docs_json = {\"e19bc2f8-7a52-49eb-8efc-b6fb4734be1d\":{\"roots\":{\"references\":[{\"attributes\":{\"callback\":null},\"id\":\"49bfe5e8-fcb4-44c9-9ced-4c495275affa\",\"type\":\"DataRange1d\"},{\"attributes\":{\"plot\":{\"id\":\"66a3b040-ccf4-4597-b2c9-9ead30630bf1\",\"subtype\":\"Figure\",\"type\":\"Plot\"},\"ticker\":{\"id\":\"752c1a32-65b3-4de7-a6e7-31468c6fc6d5\",\"type\":\"BasicTicker\"}},\"id\":\"bf59e9c4-d09a-41ad-b1aa-d88ea7725821\",\"type\":\"Grid\"},{\"attributes\":{},\"id\":\"9bbcd7b6-79a2-4a68-9884-350277d20daa\",\"type\":\"BasicTickFormatter\"},{\"attributes\":{\"data_source\":{\"id\":\"f6a93c5d-f903-4028-96cb-ca2c9d1b0a89\",\"type\":\"ColumnDataSource\"},\"glyph\":{\"id\":\"c8f015d9-b13e-4147-9a94-ffd60df23ffd\",\"type\":\"Line\"},\"hover_glyph\":null,\"muted_glyph\":null,\"nonselection_glyph\":{\"id\":\"baed8419-a958-4f23-bc89-905b237b57e9\",\"type\":\"Line\"},\"selection_glyph\":null,\"view\":{\"id\":\"015fddf7-f896-4574-ae2e-54956e9c2abf\",\"type\":\"CDSView\"}},\"id\":\"f164a5ec-38e9-4b8f-a722-25fc4905f42e\",\"type\":\"GlyphRenderer\"},{\"attributes\":{\"line_color\":\"#1f77b4\",\"line_width\":2,\"x\":{\"field\":\"x\"},\"y\":{\"field\":\"y\"}},\"id\":\"c8f015d9-b13e-4147-9a94-ffd60df23ffd\",\"type\":\"Line\"},{\"attributes\":{\"line_alpha\":0.1,\"line_color\":\"#1f77b4\",\"line_width\":2,\"x\":{\"field\":\"x\"},\"y\":{\"field\":\"y\"}},\"id\":\"baed8419-a958-4f23-bc89-905b237b57e9\",\"type\":\"Line\"},{\"attributes\":{},\"id\":\"cf434876-46f5-496f-9a34-289e12ab34e0\",\"type\":\"BasicTickFormatter\"},{\"attributes\":{\"formatter\":{\"id\":\"cf434876-46f5-496f-9a34-289e12ab34e0\",\"type\":\"BasicTickFormatter\"},\"plot\":{\"id\":\"66a3b040-ccf4-4597-b2c9-9ead30630bf1\",\"subtype\":\"Figure\",\"type\":\"Plot\"},\"ticker\":{\"id\":\"752c1a32-65b3-4de7-a6e7-31468c6fc6d5\",\"type\":\"BasicTicker\"}},\"id\":\"3280a807-898c-4ecf-a8de-5dfd52ffee64\",\"type\":\"LinearAxis\"},{\"attributes\":{\"bottom_units\":\"screen\",\"fill_alpha\":{\"value\":0.5},\"fill_color\":{\"value\":\"lightgrey\"},\"left_units\":\"screen\",\"level\":\"overlay\",\"line_alpha\":{\"value\":1.0},\"line_color\":{\"value\":\"black\"},\"line_dash\":[4,4],\"line_width\":{\"value\":2},\"plot\":null,\"render_mode\":\"css\",\"right_units\":\"screen\",\"top_units\":\"screen\"},\"id\":\"232cd6c6-9c75-48ef-94c0-2dfc869203fe\",\"type\":\"BoxAnnotation\"},{\"attributes\":{},\"id\":\"abb5ff15-f908-4c2b-83ee-dd4971c8db94\",\"type\":\"ResetTool\"},{\"attributes\":{\"plot\":null,\"text\":\"Another Example\"},\"id\":\"1daea903-b196-4f8d-8704-6b1a3156eeff\",\"type\":\"Title\"},{\"attributes\":{},\"id\":\"121480ce-4ad7-4961-af20-dbf604659752\",\"type\":\"LinearScale\"},{\"attributes\":{},\"id\":\"1c701666-7f63-4b76-b29e-757499209bb3\",\"type\":\"UnionRenderers\"},{\"attributes\":{},\"id\":\"752c1a32-65b3-4de7-a6e7-31468c6fc6d5\",\"type\":\"BasicTicker\"},{\"attributes\":{\"source\":{\"id\":\"f6a93c5d-f903-4028-96cb-ca2c9d1b0a89\",\"type\":\"ColumnDataSource\"}},\"id\":\"015fddf7-f896-4574-ae2e-54956e9c2abf\",\"type\":\"CDSView\"},{\"attributes\":{\"callback\":null},\"id\":\"3bcb5b45-e918-4122-8b2e-e606e594868d\",\"type\":\"DataRange1d\"},{\"attributes\":{\"overlay\":{\"id\":\"232cd6c6-9c75-48ef-94c0-2dfc869203fe\",\"type\":\"BoxAnnotation\"}},\"id\":\"d11b93b4-ab87-461a-b3a3-b49e59223f4d\",\"type\":\"BoxZoomTool\"},{\"attributes\":{\"label\":{\"value\":\"Line 1\"},\"renderers\":[{\"id\":\"f164a5ec-38e9-4b8f-a722-25fc4905f42e\",\"type\":\"GlyphRenderer\"}]},\"id\":\"67099a5e-7e11-47ce-b3a1-c7a5a520c27c\",\"type\":\"LegendItem\"},{\"attributes\":{},\"id\":\"45fbe0b3-6be5-4bef-aa71-ad153fc508a4\",\"type\":\"Selection\"},{\"attributes\":{\"dimension\":1,\"plot\":{\"id\":\"66a3b040-ccf4-4597-b2c9-9ead30630bf1\",\"subtype\":\"Figure\",\"type\":\"Plot\"},\"ticker\":{\"id\":\"d212d74d-76b9-48fe-b87e-46ece9206023\",\"type\":\"BasicTicker\"}},\"id\":\"bfd06e2d-7357-4236-b03c-bbfb87a9c852\",\"type\":\"Grid\"},{\"attributes\":{},\"id\":\"d212d74d-76b9-48fe-b87e-46ece9206023\",\"type\":\"BasicTicker\"},{\"attributes\":{\"below\":[{\"id\":\"3280a807-898c-4ecf-a8de-5dfd52ffee64\",\"type\":\"LinearAxis\"}],\"left\":[{\"id\":\"23241478-50bf-48f1-ab49-7764edead7cd\",\"type\":\"LinearAxis\"}],\"plot_height\":400,\"plot_width\":400,\"renderers\":[{\"id\":\"3280a807-898c-4ecf-a8de-5dfd52ffee64\",\"type\":\"LinearAxis\"},{\"id\":\"bf59e9c4-d09a-41ad-b1aa-d88ea7725821\",\"type\":\"Grid\"},{\"id\":\"23241478-50bf-48f1-ab49-7764edead7cd\",\"type\":\"LinearAxis\"},{\"id\":\"bfd06e2d-7357-4236-b03c-bbfb87a9c852\",\"type\":\"Grid\"},{\"id\":\"232cd6c6-9c75-48ef-94c0-2dfc869203fe\",\"type\":\"BoxAnnotation\"},{\"id\":\"e2da729b-6ba3-4088-9700-9b6a6ee8e4dc\",\"type\":\"Legend\"},{\"id\":\"f164a5ec-38e9-4b8f-a722-25fc4905f42e\",\"type\":\"GlyphRenderer\"}],\"title\":{\"id\":\"1daea903-b196-4f8d-8704-6b1a3156eeff\",\"type\":\"Title\"},\"toolbar\":{\"id\":\"29442ca5-4b13-4d78-9199-becc2a814742\",\"type\":\"Toolbar\"},\"x_range\":{\"id\":\"3bcb5b45-e918-4122-8b2e-e606e594868d\",\"type\":\"DataRange1d\"},\"x_scale\":{\"id\":\"455ea2b4-192e-4cb9-b56e-636b6d97c7c8\",\"type\":\"LinearScale\"},\"y_range\":{\"id\":\"49bfe5e8-fcb4-44c9-9ced-4c495275affa\",\"type\":\"DataRange1d\"},\"y_scale\":{\"id\":\"121480ce-4ad7-4961-af20-dbf604659752\",\"type\":\"LinearScale\"}},\"id\":\"66a3b040-ccf4-4597-b2c9-9ead30630bf1\",\"subtype\":\"Figure\",\"type\":\"Plot\"},{\"attributes\":{\"formatter\":{\"id\":\"9bbcd7b6-79a2-4a68-9884-350277d20daa\",\"type\":\"BasicTickFormatter\"},\"plot\":{\"id\":\"66a3b040-ccf4-4597-b2c9-9ead30630bf1\",\"subtype\":\"Figure\",\"type\":\"Plot\"},\"ticker\":{\"id\":\"d212d74d-76b9-48fe-b87e-46ece9206023\",\"type\":\"BasicTicker\"}},\"id\":\"23241478-50bf-48f1-ab49-7764edead7cd\",\"type\":\"LinearAxis\"},{\"attributes\":{\"active_drag\":\"auto\",\"active_inspect\":\"auto\",\"active_scroll\":\"auto\",\"active_tap\":\"auto\",\"tools\":[{\"id\":\"d11b93b4-ab87-461a-b3a3-b49e59223f4d\",\"type\":\"BoxZoomTool\"},{\"id\":\"abb5ff15-f908-4c2b-83ee-dd4971c8db94\",\"type\":\"ResetTool\"},{\"id\":\"4cfcf24b-3b52-489c-8f9d-415c2ae7a163\",\"type\":\"SaveTool\"}]},\"id\":\"29442ca5-4b13-4d78-9199-becc2a814742\",\"type\":\"Toolbar\"},{\"attributes\":{},\"id\":\"4cfcf24b-3b52-489c-8f9d-415c2ae7a163\",\"type\":\"SaveTool\"},{\"attributes\":{\"items\":[{\"id\":\"67099a5e-7e11-47ce-b3a1-c7a5a520c27c\",\"type\":\"LegendItem\"}],\"plot\":{\"id\":\"66a3b040-ccf4-4597-b2c9-9ead30630bf1\",\"subtype\":\"Figure\",\"type\":\"Plot\"}},\"id\":\"e2da729b-6ba3-4088-9700-9b6a6ee8e4dc\",\"type\":\"Legend\"},{\"attributes\":{},\"id\":\"455ea2b4-192e-4cb9-b56e-636b6d97c7c8\",\"type\":\"LinearScale\"},{\"attributes\":{\"callback\":null,\"data\":{\"x\":[1,2,3,4,5],\"y\":[6,7,2,4,5]},\"selected\":{\"id\":\"45fbe0b3-6be5-4bef-aa71-ad153fc508a4\",\"type\":\"Selection\"},\"selection_policy\":{\"id\":\"1c701666-7f63-4b76-b29e-757499209bb3\",\"type\":\"UnionRenderers\"}},\"id\":\"f6a93c5d-f903-4028-96cb-ca2c9d1b0a89\",\"type\":\"ColumnDataSource\"}],\"root_ids\":[\"66a3b040-ccf4-4597-b2c9-9ead30630bf1\"]},\"title\":\"Bokeh Application\",\"version\":\"0.12.16\"}};\n",
       "  var render_items = [{\"docid\":\"e19bc2f8-7a52-49eb-8efc-b6fb4734be1d\",\"elementid\":\"fb57fc28-5aab-464a-bdd0-ecafc58d0e3e\",\"modelid\":\"66a3b040-ccf4-4597-b2c9-9ead30630bf1\"}];\n",
       "  root.Bokeh.embed.embed_items_notebook(docs_json, render_items);\n",
       "\n",
       "  }\n",
       "  if (root.Bokeh !== undefined) {\n",
       "    embed_document(root);\n",
       "  } else {\n",
       "    var attempts = 0;\n",
       "    var timer = setInterval(function(root) {\n",
       "      if (root.Bokeh !== undefined) {\n",
       "        embed_document(root);\n",
       "        clearInterval(timer);\n",
       "      }\n",
       "      attempts++;\n",
       "      if (attempts > 100) {\n",
       "        console.log(\"Bokeh: ERROR: Unable to run BokehJS code because BokehJS library is missing\")\n",
       "        clearInterval(timer);\n",
       "      }\n",
       "    }, 10, root)\n",
       "  }\n",
       "})(window);"
      ],
      "application/vnd.bokehjs_exec.v0+json": ""
     },
     "metadata": {
      "application/vnd.bokehjs_exec.v0+json": {
       "id": "66a3b040-ccf4-4597-b2c9-9ead30630bf1"
      }
     },
     "output_type": "display_data"
    }
   ],
   "source": [
    "plot = figure(\n",
    "    tools=\"box_zoom,reset,save\",\n",
    "    title=\"Another Example\",\n",
    "    plot_width=400, \n",
    "    plot_height=400\n",
    ")\n",
    "\n",
    "plot.line(x, y, legend=\"Line 1\", line_width=2)\n",
    "show(plot)"
   ]
  },
  {
   "cell_type": "code",
   "execution_count": 31,
   "metadata": {},
   "outputs": [
    {
     "data": {
      "text/html": [
       "\n",
       "<div class=\"bk-root\">\n",
       "    <div class=\"bk-plotdiv\" id=\"d401dbf5-f0ac-4214-9ca2-406d9adf93dc\"></div>\n",
       "</div>"
      ]
     },
     "metadata": {},
     "output_type": "display_data"
    },
    {
     "data": {
      "application/javascript": [
       "(function(root) {\n",
       "  function embed_document(root) {\n",
       "    \n",
       "  var docs_json = {\"efdd26c3-9bde-4a81-947c-f0e50c5105bf\":{\"roots\":{\"references\":[{\"attributes\":{\"active_drag\":\"auto\",\"active_inspect\":\"auto\",\"active_scroll\":\"auto\",\"active_tap\":\"auto\",\"tools\":[{\"id\":\"92e8f45a-33f4-42c3-8776-3a6e6265e9eb\",\"type\":\"PanTool\"},{\"id\":\"1ce31af9-0ed2-44b8-9877-47c2b0aa9630\",\"type\":\"WheelZoomTool\"},{\"id\":\"7d704c9a-6338-4175-959b-e2a31e5d937a\",\"type\":\"BoxZoomTool\"},{\"id\":\"0da17327-0b53-46b7-be4c-f196650c3cd8\",\"type\":\"SaveTool\"},{\"id\":\"8b89df5f-9b21-46bc-8f2f-70510ac56116\",\"type\":\"ResetTool\"},{\"id\":\"84f85bc6-df28-444e-b1c8-8c8aef8250de\",\"type\":\"HelpTool\"}]},\"id\":\"aad2e513-55f4-44ee-942d-b1fc8033d8fa\",\"type\":\"Toolbar\"},{\"attributes\":{\"fill_color\":{\"value\":\"orange\"},\"line_color\":{\"value\":\"navy\"},\"size\":{\"units\":\"screen\",\"value\":15},\"x\":{\"field\":\"x\"},\"y\":{\"field\":\"y\"}},\"id\":\"7adbb7ad-472a-4bc1-93da-132a5409e25a\",\"type\":\"Circle\"},{\"attributes\":{\"fill_alpha\":{\"value\":0.1},\"fill_color\":{\"value\":\"#1f77b4\"},\"line_alpha\":{\"value\":0.1},\"line_color\":{\"value\":\"#1f77b4\"},\"size\":{\"units\":\"screen\",\"value\":15},\"x\":{\"field\":\"x\"},\"y\":{\"field\":\"y\"}},\"id\":\"1c8bccee-f247-4017-900c-955d2317b361\",\"type\":\"Circle\"},{\"attributes\":{},\"id\":\"b574eb7d-4337-46e0-9859-9d1887c9e9ad\",\"type\":\"UnionRenderers\"},{\"attributes\":{\"data_source\":{\"id\":\"bb5dd323-5426-4ba5-a000-d46dd023923e\",\"type\":\"ColumnDataSource\"},\"glyph\":{\"id\":\"7adbb7ad-472a-4bc1-93da-132a5409e25a\",\"type\":\"Circle\"},\"hover_glyph\":null,\"muted_glyph\":null,\"nonselection_glyph\":{\"id\":\"1c8bccee-f247-4017-900c-955d2317b361\",\"type\":\"Circle\"},\"selection_glyph\":null,\"view\":{\"id\":\"f3346673-cb49-45b4-b1f3-2e1aae54fbc1\",\"type\":\"CDSView\"}},\"id\":\"e22f242d-06a0-4209-9fcc-9d31fb4b88cc\",\"type\":\"GlyphRenderer\"},{\"attributes\":{},\"id\":\"b4ec1bc1-6c05-415c-b4a2-fedaae85fddc\",\"type\":\"BasicTicker\"},{\"attributes\":{},\"id\":\"8b89df5f-9b21-46bc-8f2f-70510ac56116\",\"type\":\"ResetTool\"},{\"attributes\":{\"callback\":null},\"id\":\"bb99b9c8-4c0d-4fab-b5e8-95f4f9d122b8\",\"type\":\"DataRange1d\"},{\"attributes\":{\"formatter\":{\"id\":\"fa907077-6a84-489b-8abd-032d2ed82b34\",\"type\":\"BasicTickFormatter\"},\"plot\":{\"id\":\"930a937d-bd19-481c-882c-fcdaefbcb23c\",\"subtype\":\"Figure\",\"type\":\"Plot\"},\"ticker\":{\"id\":\"0c25ef71-e32a-4530-b7de-8e47f1c6b390\",\"type\":\"BasicTicker\"}},\"id\":\"fef2ac66-d4d0-46ef-a0ce-f2ce7aff6b1e\",\"type\":\"LinearAxis\"},{\"attributes\":{},\"id\":\"92e8f45a-33f4-42c3-8776-3a6e6265e9eb\",\"type\":\"PanTool\"},{\"attributes\":{},\"id\":\"0c25ef71-e32a-4530-b7de-8e47f1c6b390\",\"type\":\"BasicTicker\"},{\"attributes\":{\"source\":{\"id\":\"bb5dd323-5426-4ba5-a000-d46dd023923e\",\"type\":\"ColumnDataSource\"}},\"id\":\"f3346673-cb49-45b4-b1f3-2e1aae54fbc1\",\"type\":\"CDSView\"},{\"attributes\":{\"bottom_units\":\"screen\",\"fill_alpha\":{\"value\":0.5},\"fill_color\":{\"value\":\"lightgrey\"},\"left_units\":\"screen\",\"level\":\"overlay\",\"line_alpha\":{\"value\":1.0},\"line_color\":{\"value\":\"black\"},\"line_dash\":[4,4],\"line_width\":{\"value\":2},\"plot\":null,\"render_mode\":\"css\",\"right_units\":\"screen\",\"top_units\":\"screen\"},\"id\":\"7dd6c935-1fe7-498b-9e9b-7bee9ed80d1d\",\"type\":\"BoxAnnotation\"},{\"attributes\":{\"formatter\":{\"id\":\"b7fe94b4-2aed-4d47-ab9e-9088e0795927\",\"type\":\"BasicTickFormatter\"},\"plot\":{\"id\":\"930a937d-bd19-481c-882c-fcdaefbcb23c\",\"subtype\":\"Figure\",\"type\":\"Plot\"},\"ticker\":{\"id\":\"b4ec1bc1-6c05-415c-b4a2-fedaae85fddc\",\"type\":\"BasicTicker\"}},\"id\":\"be3911ce-37eb-401e-a1d1-3b76d4984fc2\",\"type\":\"LinearAxis\"},{\"attributes\":{},\"id\":\"df41cb81-73c9-4dc2-a009-d1e9a0a53dc5\",\"type\":\"LinearScale\"},{\"attributes\":{\"dimension\":1,\"plot\":{\"id\":\"930a937d-bd19-481c-882c-fcdaefbcb23c\",\"subtype\":\"Figure\",\"type\":\"Plot\"},\"ticker\":{\"id\":\"0c25ef71-e32a-4530-b7de-8e47f1c6b390\",\"type\":\"BasicTicker\"}},\"id\":\"87b8fdec-c25c-4972-b08c-385bffeb45e2\",\"type\":\"Grid\"},{\"attributes\":{\"overlay\":{\"id\":\"7dd6c935-1fe7-498b-9e9b-7bee9ed80d1d\",\"type\":\"BoxAnnotation\"}},\"id\":\"7d704c9a-6338-4175-959b-e2a31e5d937a\",\"type\":\"BoxZoomTool\"},{\"attributes\":{},\"id\":\"84f85bc6-df28-444e-b1c8-8c8aef8250de\",\"type\":\"HelpTool\"},{\"attributes\":{},\"id\":\"0da17327-0b53-46b7-be4c-f196650c3cd8\",\"type\":\"SaveTool\"},{\"attributes\":{},\"id\":\"4e68c842-9136-4c54-8c94-cdd974768af8\",\"type\":\"LinearScale\"},{\"attributes\":{\"plot\":null,\"text\":\"\"},\"id\":\"83e9f9ee-5aa3-4de2-a9b6-163b086bff4c\",\"type\":\"Title\"},{\"attributes\":{},\"id\":\"1ce31af9-0ed2-44b8-9877-47c2b0aa9630\",\"type\":\"WheelZoomTool\"},{\"attributes\":{},\"id\":\"fa907077-6a84-489b-8abd-032d2ed82b34\",\"type\":\"BasicTickFormatter\"},{\"attributes\":{\"callback\":null},\"id\":\"06000744-214d-4093-9467-a1eca0f5c057\",\"type\":\"DataRange1d\"},{\"attributes\":{\"callback\":null,\"data\":{\"x\":[1,2,3,4,5],\"y\":[6,7,2,4,5]},\"selected\":{\"id\":\"7dfb9d2a-80b4-4c48-82b5-ef77d086befa\",\"type\":\"Selection\"},\"selection_policy\":{\"id\":\"b574eb7d-4337-46e0-9859-9d1887c9e9ad\",\"type\":\"UnionRenderers\"}},\"id\":\"bb5dd323-5426-4ba5-a000-d46dd023923e\",\"type\":\"ColumnDataSource\"},{\"attributes\":{},\"id\":\"b7fe94b4-2aed-4d47-ab9e-9088e0795927\",\"type\":\"BasicTickFormatter\"},{\"attributes\":{\"below\":[{\"id\":\"be3911ce-37eb-401e-a1d1-3b76d4984fc2\",\"type\":\"LinearAxis\"}],\"left\":[{\"id\":\"fef2ac66-d4d0-46ef-a0ce-f2ce7aff6b1e\",\"type\":\"LinearAxis\"}],\"plot_height\":400,\"plot_width\":400,\"renderers\":[{\"id\":\"be3911ce-37eb-401e-a1d1-3b76d4984fc2\",\"type\":\"LinearAxis\"},{\"id\":\"2d9d9dde-d1ee-4fb0-a83a-4891d2b5c33f\",\"type\":\"Grid\"},{\"id\":\"fef2ac66-d4d0-46ef-a0ce-f2ce7aff6b1e\",\"type\":\"LinearAxis\"},{\"id\":\"87b8fdec-c25c-4972-b08c-385bffeb45e2\",\"type\":\"Grid\"},{\"id\":\"7dd6c935-1fe7-498b-9e9b-7bee9ed80d1d\",\"type\":\"BoxAnnotation\"},{\"id\":\"e22f242d-06a0-4209-9fcc-9d31fb4b88cc\",\"type\":\"GlyphRenderer\"}],\"title\":{\"id\":\"83e9f9ee-5aa3-4de2-a9b6-163b086bff4c\",\"type\":\"Title\"},\"toolbar\":{\"id\":\"aad2e513-55f4-44ee-942d-b1fc8033d8fa\",\"type\":\"Toolbar\"},\"x_range\":{\"id\":\"bb99b9c8-4c0d-4fab-b5e8-95f4f9d122b8\",\"type\":\"DataRange1d\"},\"x_scale\":{\"id\":\"4e68c842-9136-4c54-8c94-cdd974768af8\",\"type\":\"LinearScale\"},\"y_range\":{\"id\":\"06000744-214d-4093-9467-a1eca0f5c057\",\"type\":\"DataRange1d\"},\"y_scale\":{\"id\":\"df41cb81-73c9-4dc2-a009-d1e9a0a53dc5\",\"type\":\"LinearScale\"}},\"id\":\"930a937d-bd19-481c-882c-fcdaefbcb23c\",\"subtype\":\"Figure\",\"type\":\"Plot\"},{\"attributes\":{},\"id\":\"7dfb9d2a-80b4-4c48-82b5-ef77d086befa\",\"type\":\"Selection\"},{\"attributes\":{\"plot\":{\"id\":\"930a937d-bd19-481c-882c-fcdaefbcb23c\",\"subtype\":\"Figure\",\"type\":\"Plot\"},\"ticker\":{\"id\":\"b4ec1bc1-6c05-415c-b4a2-fedaae85fddc\",\"type\":\"BasicTicker\"}},\"id\":\"2d9d9dde-d1ee-4fb0-a83a-4891d2b5c33f\",\"type\":\"Grid\"}],\"root_ids\":[\"930a937d-bd19-481c-882c-fcdaefbcb23c\"]},\"title\":\"Bokeh Application\",\"version\":\"0.12.16\"}};\n",
       "  var render_items = [{\"docid\":\"efdd26c3-9bde-4a81-947c-f0e50c5105bf\",\"elementid\":\"d401dbf5-f0ac-4214-9ca2-406d9adf93dc\",\"modelid\":\"930a937d-bd19-481c-882c-fcdaefbcb23c\"}];\n",
       "  root.Bokeh.embed.embed_items_notebook(docs_json, render_items);\n",
       "\n",
       "  }\n",
       "  if (root.Bokeh !== undefined) {\n",
       "    embed_document(root);\n",
       "  } else {\n",
       "    var attempts = 0;\n",
       "    var timer = setInterval(function(root) {\n",
       "      if (root.Bokeh !== undefined) {\n",
       "        embed_document(root);\n",
       "        clearInterval(timer);\n",
       "      }\n",
       "      attempts++;\n",
       "      if (attempts > 100) {\n",
       "        console.log(\"Bokeh: ERROR: Unable to run BokehJS code because BokehJS library is missing\")\n",
       "        clearInterval(timer);\n",
       "      }\n",
       "    }, 10, root)\n",
       "  }\n",
       "})(window);"
      ],
      "application/vnd.bokehjs_exec.v0+json": ""
     },
     "metadata": {
      "application/vnd.bokehjs_exec.v0+json": {
       "id": "930a937d-bd19-481c-882c-fcdaefbcb23c"
      }
     },
     "output_type": "display_data"
    }
   ],
   "source": [
    "# create a new plot with default tools, using figure\n",
    "plot = figure(plot_width=400, plot_height=400)\n",
    "\n",
    "# add a circle renderer with x and y coordinates, size, color, and alpha\n",
    "plot.circle([1, 2, 3, 4, 5], [6, 7, 2, 4, 5], size=15, line_color=\"navy\", fill_color=\"orange\")\n",
    "\n",
    "# what if we try square?\n",
    "\n",
    "show(plot) # show the results"
   ]
  },
  {
   "cell_type": "code",
   "execution_count": 44,
   "metadata": {},
   "outputs": [
    {
     "data": {
      "text/html": [
       "\n",
       "<div class=\"bk-root\">\n",
       "    <div class=\"bk-plotdiv\" id=\"aae5014b-802b-4857-85b9-d480925dde70\"></div>\n",
       "</div>"
      ]
     },
     "metadata": {},
     "output_type": "display_data"
    },
    {
     "data": {
      "application/javascript": [
       "(function(root) {\n",
       "  function embed_document(root) {\n",
       "    \n",
       "  var docs_json = {\"ccfd4730-70bc-44aa-95ae-779a1015d0bf\":{\"roots\":{\"references\":[{\"attributes\":{\"plot\":null,\"text\":\"Fruit Counts\"},\"id\":\"74d32f80-a049-4e95-b2a6-25ec64c9fc05\",\"type\":\"Title\"},{\"attributes\":{},\"id\":\"291181cc-3ec4-4019-821c-63ab66fdd3f1\",\"type\":\"CategoricalTicker\"},{\"attributes\":{\"callback\":null,\"factors\":[\"Apples\",\"Pears\",\"Nectarines\",\"Plums\",\"Grapes\",\"Strawberries\"]},\"id\":\"38c2f171-41dd-46cd-905b-857852bc3347\",\"type\":\"FactorRange\"},{\"attributes\":{\"fill_alpha\":{\"value\":0.1},\"fill_color\":{\"value\":\"#1f77b4\"},\"line_alpha\":{\"value\":0.1},\"line_color\":{\"value\":\"#1f77b4\"},\"top\":{\"field\":\"top\"},\"width\":{\"value\":0.9},\"x\":{\"field\":\"x\"}},\"id\":\"01b5d0a2-3c91-44da-bc34-e96e9971fe2a\",\"type\":\"VBar\"},{\"attributes\":{\"bottom_units\":\"screen\",\"fill_alpha\":{\"value\":0.5},\"fill_color\":{\"value\":\"lightgrey\"},\"left_units\":\"screen\",\"level\":\"overlay\",\"line_alpha\":{\"value\":1.0},\"line_color\":{\"value\":\"black\"},\"line_dash\":[4,4],\"line_width\":{\"value\":2},\"plot\":null,\"render_mode\":\"css\",\"right_units\":\"screen\",\"top_units\":\"screen\"},\"id\":\"ec43989c-a80b-4a48-a834-8013862fcbce\",\"type\":\"BoxAnnotation\"},{\"attributes\":{},\"id\":\"88cae156-bc91-4d49-96e1-617a1d036349\",\"type\":\"UnionRenderers\"},{\"attributes\":{},\"id\":\"85c76e3c-67bf-4ced-80b3-6b09a3bdc4a7\",\"type\":\"CategoricalTickFormatter\"},{\"attributes\":{},\"id\":\"b19f12cc-68a8-4725-8a23-0594b4da85e0\",\"type\":\"BasicTicker\"},{\"attributes\":{},\"id\":\"cbb5a009-801a-420d-90f7-41d09508079b\",\"type\":\"ResetTool\"},{\"attributes\":{\"active_drag\":\"auto\",\"active_inspect\":\"auto\",\"active_scroll\":\"auto\",\"active_tap\":\"auto\",\"tools\":[{\"id\":\"3b0d0147-b555-4bbc-8669-a7fad2b46df7\",\"type\":\"BoxZoomTool\"},{\"id\":\"cbb5a009-801a-420d-90f7-41d09508079b\",\"type\":\"ResetTool\"},{\"id\":\"9cbee0b0-dbab-48d4-843e-440cfd6ff1c2\",\"type\":\"SaveTool\"}]},\"id\":\"154f337e-8016-4329-91eb-a245f774a1d4\",\"type\":\"Toolbar\"},{\"attributes\":{\"formatter\":{\"id\":\"9a3df792-2929-4997-9975-2786026379c8\",\"type\":\"BasicTickFormatter\"},\"plot\":{\"id\":\"a793a877-85e4-46b6-8ea1-58196165bfd1\",\"subtype\":\"Figure\",\"type\":\"Plot\"},\"ticker\":{\"id\":\"b19f12cc-68a8-4725-8a23-0594b4da85e0\",\"type\":\"BasicTicker\"}},\"id\":\"7540d525-8e20-4b7a-9cad-2e7dabc945de\",\"type\":\"LinearAxis\"},{\"attributes\":{},\"id\":\"9a3df792-2929-4997-9975-2786026379c8\",\"type\":\"BasicTickFormatter\"},{\"attributes\":{\"callback\":null,\"start\":0},\"id\":\"5d55b80d-5b50-4230-b904-1f89865bc9e5\",\"type\":\"DataRange1d\"},{\"attributes\":{},\"id\":\"9cbee0b0-dbab-48d4-843e-440cfd6ff1c2\",\"type\":\"SaveTool\"},{\"attributes\":{\"source\":{\"id\":\"a24c3d10-ea42-49e6-8cbe-044874305f2f\",\"type\":\"ColumnDataSource\"}},\"id\":\"c88bd672-f317-4cb3-83c8-a30436bda893\",\"type\":\"CDSView\"},{\"attributes\":{\"below\":[{\"id\":\"5e69c0cd-4882-45b5-afd8-3b3362586097\",\"type\":\"CategoricalAxis\"}],\"left\":[{\"id\":\"7540d525-8e20-4b7a-9cad-2e7dabc945de\",\"type\":\"LinearAxis\"}],\"plot_height\":250,\"renderers\":[{\"id\":\"5e69c0cd-4882-45b5-afd8-3b3362586097\",\"type\":\"CategoricalAxis\"},{\"id\":\"e2b04a3b-8dc8-4df6-903e-5edf90617b14\",\"type\":\"Grid\"},{\"id\":\"7540d525-8e20-4b7a-9cad-2e7dabc945de\",\"type\":\"LinearAxis\"},{\"id\":\"64d738b4-7ca7-4cfb-9ed4-3bb42d81695c\",\"type\":\"Grid\"},{\"id\":\"ec43989c-a80b-4a48-a834-8013862fcbce\",\"type\":\"BoxAnnotation\"},{\"id\":\"c82639a9-a8a1-4443-8e5a-d757e7074d9c\",\"type\":\"GlyphRenderer\"}],\"title\":{\"id\":\"74d32f80-a049-4e95-b2a6-25ec64c9fc05\",\"type\":\"Title\"},\"toolbar\":{\"id\":\"154f337e-8016-4329-91eb-a245f774a1d4\",\"type\":\"Toolbar\"},\"x_range\":{\"id\":\"38c2f171-41dd-46cd-905b-857852bc3347\",\"type\":\"FactorRange\"},\"x_scale\":{\"id\":\"d96cd65b-65be-43b4-aac6-40fbfa424ba9\",\"type\":\"CategoricalScale\"},\"y_range\":{\"id\":\"5d55b80d-5b50-4230-b904-1f89865bc9e5\",\"type\":\"DataRange1d\"},\"y_scale\":{\"id\":\"f82e2666-c2fd-437c-b23e-067e63a028d3\",\"type\":\"LinearScale\"}},\"id\":\"a793a877-85e4-46b6-8ea1-58196165bfd1\",\"subtype\":\"Figure\",\"type\":\"Plot\"},{\"attributes\":{\"dimension\":1,\"plot\":{\"id\":\"a793a877-85e4-46b6-8ea1-58196165bfd1\",\"subtype\":\"Figure\",\"type\":\"Plot\"},\"ticker\":{\"id\":\"b19f12cc-68a8-4725-8a23-0594b4da85e0\",\"type\":\"BasicTicker\"}},\"id\":\"64d738b4-7ca7-4cfb-9ed4-3bb42d81695c\",\"type\":\"Grid\"},{\"attributes\":{\"data_source\":{\"id\":\"a24c3d10-ea42-49e6-8cbe-044874305f2f\",\"type\":\"ColumnDataSource\"},\"glyph\":{\"id\":\"446ef24b-e8b1-4a43-9a7e-0a385b2edae0\",\"type\":\"VBar\"},\"hover_glyph\":null,\"muted_glyph\":null,\"nonselection_glyph\":{\"id\":\"01b5d0a2-3c91-44da-bc34-e96e9971fe2a\",\"type\":\"VBar\"},\"selection_glyph\":null,\"view\":{\"id\":\"c88bd672-f317-4cb3-83c8-a30436bda893\",\"type\":\"CDSView\"}},\"id\":\"c82639a9-a8a1-4443-8e5a-d757e7074d9c\",\"type\":\"GlyphRenderer\"},{\"attributes\":{\"callback\":null,\"data\":{\"top\":[5,3,4,2,4,6],\"x\":[\"Apples\",\"Pears\",\"Nectarines\",\"Plums\",\"Grapes\",\"Strawberries\"]},\"selected\":{\"id\":\"ee1bec02-8d6c-4785-b9a2-9bbbcf2b30cb\",\"type\":\"Selection\"},\"selection_policy\":{\"id\":\"88cae156-bc91-4d49-96e1-617a1d036349\",\"type\":\"UnionRenderers\"}},\"id\":\"a24c3d10-ea42-49e6-8cbe-044874305f2f\",\"type\":\"ColumnDataSource\"},{\"attributes\":{},\"id\":\"f82e2666-c2fd-437c-b23e-067e63a028d3\",\"type\":\"LinearScale\"},{\"attributes\":{\"formatter\":{\"id\":\"85c76e3c-67bf-4ced-80b3-6b09a3bdc4a7\",\"type\":\"CategoricalTickFormatter\"},\"plot\":{\"id\":\"a793a877-85e4-46b6-8ea1-58196165bfd1\",\"subtype\":\"Figure\",\"type\":\"Plot\"},\"ticker\":{\"id\":\"291181cc-3ec4-4019-821c-63ab66fdd3f1\",\"type\":\"CategoricalTicker\"}},\"id\":\"5e69c0cd-4882-45b5-afd8-3b3362586097\",\"type\":\"CategoricalAxis\"},{\"attributes\":{},\"id\":\"d96cd65b-65be-43b4-aac6-40fbfa424ba9\",\"type\":\"CategoricalScale\"},{\"attributes\":{},\"id\":\"ee1bec02-8d6c-4785-b9a2-9bbbcf2b30cb\",\"type\":\"Selection\"},{\"attributes\":{\"grid_line_color\":{\"value\":null},\"plot\":{\"id\":\"a793a877-85e4-46b6-8ea1-58196165bfd1\",\"subtype\":\"Figure\",\"type\":\"Plot\"},\"ticker\":{\"id\":\"291181cc-3ec4-4019-821c-63ab66fdd3f1\",\"type\":\"CategoricalTicker\"}},\"id\":\"e2b04a3b-8dc8-4df6-903e-5edf90617b14\",\"type\":\"Grid\"},{\"attributes\":{\"overlay\":{\"id\":\"ec43989c-a80b-4a48-a834-8013862fcbce\",\"type\":\"BoxAnnotation\"}},\"id\":\"3b0d0147-b555-4bbc-8669-a7fad2b46df7\",\"type\":\"BoxZoomTool\"},{\"attributes\":{\"fill_color\":{\"value\":\"#1f77b4\"},\"line_color\":{\"value\":\"#1f77b4\"},\"top\":{\"field\":\"top\"},\"width\":{\"value\":0.9},\"x\":{\"field\":\"x\"}},\"id\":\"446ef24b-e8b1-4a43-9a7e-0a385b2edae0\",\"type\":\"VBar\"}],\"root_ids\":[\"a793a877-85e4-46b6-8ea1-58196165bfd1\"]},\"title\":\"Bokeh Application\",\"version\":\"0.12.16\"}};\n",
       "  var render_items = [{\"docid\":\"ccfd4730-70bc-44aa-95ae-779a1015d0bf\",\"elementid\":\"aae5014b-802b-4857-85b9-d480925dde70\",\"modelid\":\"a793a877-85e4-46b6-8ea1-58196165bfd1\"}];\n",
       "  root.Bokeh.embed.embed_items_notebook(docs_json, render_items);\n",
       "\n",
       "  }\n",
       "  if (root.Bokeh !== undefined) {\n",
       "    embed_document(root);\n",
       "  } else {\n",
       "    var attempts = 0;\n",
       "    var timer = setInterval(function(root) {\n",
       "      if (root.Bokeh !== undefined) {\n",
       "        embed_document(root);\n",
       "        clearInterval(timer);\n",
       "      }\n",
       "      attempts++;\n",
       "      if (attempts > 100) {\n",
       "        console.log(\"Bokeh: ERROR: Unable to run BokehJS code because BokehJS library is missing\")\n",
       "        clearInterval(timer);\n",
       "      }\n",
       "    }, 10, root)\n",
       "  }\n",
       "})(window);"
      ],
      "application/vnd.bokehjs_exec.v0+json": ""
     },
     "metadata": {
      "application/vnd.bokehjs_exec.v0+json": {
       "id": "a793a877-85e4-46b6-8ea1-58196165bfd1"
      }
     },
     "output_type": "display_data"
    }
   ],
   "source": [
    "# Here is a list of categorical values (or factors)\n",
    "fruits = ['Apples', 'Pears', 'Nectarines', 'Plums', 'Grapes', 'Strawberries']\n",
    "counts = [5, 3, 4, 2, 4, 6]\n",
    "\n",
    "# Set the x_range to the list of categories above\n",
    "p = figure(tools=\"box_zoom,reset,save\", x_range=fruits, plot_height=250, title=\"Fruit Counts\")\n",
    "\n",
    "# Categorical values can also be used as coordinates\n",
    "p.vbar(x=fruits, top=counts, width=0.9)\n",
    "\n",
    "# Set some properties to make the plot look better\n",
    "p.xgrid.grid_line_color = None\n",
    "p.y_range.start = 0\n",
    "\n",
    "show(p)"
   ]
  },
  {
   "cell_type": "code",
   "execution_count": 57,
   "metadata": {},
   "outputs": [
    {
     "data": {
      "text/html": [
       "\n",
       "<div class=\"bk-root\">\n",
       "    <div class=\"bk-plotdiv\" id=\"b204e8a9-bf5f-4c45-9531-aef16f83fc40\"></div>\n",
       "</div>"
      ]
     },
     "metadata": {},
     "output_type": "display_data"
    },
    {
     "data": {
      "application/javascript": [
       "(function(root) {\n",
       "  function embed_document(root) {\n",
       "    \n",
       "  var docs_json = {\"7b6a8f27-fcbd-4f8a-a5a4-b1383e7cffd3\":{\"roots\":{\"references\":[{\"attributes\":{\"dimension\":1,\"plot\":{\"id\":\"f8a1790a-4890-4831-b73f-5d0c0f02d004\",\"subtype\":\"Figure\",\"type\":\"Plot\"},\"ticker\":{\"id\":\"5bff8469-f2e8-48eb-924e-923c1f5699e1\",\"type\":\"BasicTicker\"}},\"id\":\"d12339cb-00e6-462d-9e55-a9b874426f79\",\"type\":\"Grid\"},{\"attributes\":{},\"id\":\"5d6f8c43-964c-43a9-86ad-56cbc9c1dadf\",\"type\":\"UnionRenderers\"},{\"attributes\":{\"data_source\":{\"id\":\"30d7b6ad-f7cc-44f2-ba41-10b6040c5964\",\"type\":\"ColumnDataSource\"},\"glyph\":{\"id\":\"f5a75b24-6be0-411d-8a4d-3f3cb2b1daf5\",\"type\":\"VBar\"},\"hover_glyph\":null,\"muted_glyph\":null,\"nonselection_glyph\":{\"id\":\"cfbc6a02-4146-4b17-acff-009ec4179915\",\"type\":\"VBar\"},\"selection_glyph\":null,\"view\":{\"id\":\"a588166a-0f3c-45dd-af8b-cad356ca0c71\",\"type\":\"CDSView\"}},\"id\":\"082ce6df-68d1-49a4-9fd6-2dc90644153c\",\"type\":\"GlyphRenderer\"},{\"attributes\":{\"bottom\":{\"expr\":{\"id\":\"9a0a758d-22ee-400d-9ba2-01fc60c3c7fe\",\"type\":\"Stack\"}},\"fill_alpha\":{\"value\":0.1},\"fill_color\":{\"value\":\"#1f77b4\"},\"line_alpha\":{\"value\":0.1},\"line_color\":{\"value\":\"#1f77b4\"},\"top\":{\"expr\":{\"id\":\"ff1e1d55-44ef-4b99-90b6-76b021d98bc3\",\"type\":\"Stack\"}},\"width\":{\"value\":0.9},\"x\":{\"field\":\"fruits\"}},\"id\":\"f593d0d3-39b7-4ae8-b7c5-b030cf91067c\",\"type\":\"VBar\"},{\"attributes\":{\"bottom_units\":\"screen\",\"fill_alpha\":{\"value\":0.5},\"fill_color\":{\"value\":\"lightgrey\"},\"left_units\":\"screen\",\"level\":\"overlay\",\"line_alpha\":{\"value\":1.0},\"line_color\":{\"value\":\"black\"},\"line_dash\":[4,4],\"line_width\":{\"value\":2},\"plot\":null,\"render_mode\":\"css\",\"right_units\":\"screen\",\"top_units\":\"screen\"},\"id\":\"960f5c94-fdf2-43d7-8c43-d69f48a3829e\",\"type\":\"BoxAnnotation\"},{\"attributes\":{\"bottom\":{\"expr\":{\"id\":\"ff6dd934-55ac-4717-b038-5f1f8881687c\",\"type\":\"Stack\"}},\"fill_color\":{\"value\":\"#e0f3db\"},\"line_color\":{\"value\":\"#e0f3db\"},\"top\":{\"expr\":{\"id\":\"6d2f8fdd-952a-42f2-8144-df96497600bb\",\"type\":\"Stack\"}},\"width\":{\"value\":0.9},\"x\":{\"field\":\"fruits\"}},\"id\":\"f5a75b24-6be0-411d-8a4d-3f3cb2b1daf5\",\"type\":\"VBar\"},{\"attributes\":{},\"id\":\"5bff8469-f2e8-48eb-924e-923c1f5699e1\",\"type\":\"BasicTicker\"},{\"attributes\":{},\"id\":\"2cce3879-7108-47af-8fd9-071c22f5d5ce\",\"type\":\"PanTool\"},{\"attributes\":{\"below\":[{\"id\":\"d37e87b2-cff1-4916-b742-b6297ffe8678\",\"type\":\"CategoricalAxis\"}],\"left\":[{\"id\":\"0f1355e6-8279-4207-9517-3e70e79b90c8\",\"type\":\"LinearAxis\"}],\"renderers\":[{\"id\":\"d37e87b2-cff1-4916-b742-b6297ffe8678\",\"type\":\"CategoricalAxis\"},{\"id\":\"83798206-a140-4c83-b1a4-7c2ce1291487\",\"type\":\"Grid\"},{\"id\":\"0f1355e6-8279-4207-9517-3e70e79b90c8\",\"type\":\"LinearAxis\"},{\"id\":\"d12339cb-00e6-462d-9e55-a9b874426f79\",\"type\":\"Grid\"},{\"id\":\"960f5c94-fdf2-43d7-8c43-d69f48a3829e\",\"type\":\"BoxAnnotation\"},{\"id\":\"b335a18a-efdf-4a80-8087-3ed091eaec14\",\"type\":\"Legend\"},{\"id\":\"95b351a2-702f-4517-a0b0-ab54cbb16d89\",\"type\":\"GlyphRenderer\"},{\"id\":\"909c5cd3-8f61-4189-bd76-42f6abb460a7\",\"type\":\"GlyphRenderer\"},{\"id\":\"082ce6df-68d1-49a4-9fd6-2dc90644153c\",\"type\":\"GlyphRenderer\"}],\"title\":{\"id\":\"cef25a70-94c5-4f67-ad15-ff942b7f71ed\",\"type\":\"Title\"},\"toolbar\":{\"id\":\"a74c2377-2a22-44a2-9cc3-2b2a9042b09e\",\"type\":\"Toolbar\"},\"x_range\":{\"id\":\"0f6e7fbb-973a-4079-bfc7-581c44b02a49\",\"type\":\"FactorRange\"},\"x_scale\":{\"id\":\"2ae2fbb0-f24c-4b54-a944-ed59da547e81\",\"type\":\"CategoricalScale\"},\"y_range\":{\"id\":\"7ada5a56-e482-4f31-a2eb-59b1f7af5e09\",\"type\":\"DataRange1d\"},\"y_scale\":{\"id\":\"a5c33d98-0eb4-409b-a220-d6c28b452d4d\",\"type\":\"LinearScale\"}},\"id\":\"f8a1790a-4890-4831-b73f-5d0c0f02d004\",\"subtype\":\"Figure\",\"type\":\"Plot\"},{\"attributes\":{\"overlay\":{\"id\":\"960f5c94-fdf2-43d7-8c43-d69f48a3829e\",\"type\":\"BoxAnnotation\"}},\"id\":\"9230b9e5-8236-4a94-92f6-ecb7ab261a77\",\"type\":\"BoxZoomTool\"},{\"attributes\":{\"bottom\":{\"expr\":{\"id\":\"ff6dd934-55ac-4717-b038-5f1f8881687c\",\"type\":\"Stack\"}},\"fill_alpha\":{\"value\":0.1},\"fill_color\":{\"value\":\"#1f77b4\"},\"line_alpha\":{\"value\":0.1},\"line_color\":{\"value\":\"#1f77b4\"},\"top\":{\"expr\":{\"id\":\"6d2f8fdd-952a-42f2-8144-df96497600bb\",\"type\":\"Stack\"}},\"width\":{\"value\":0.9},\"x\":{\"field\":\"fruits\"}},\"id\":\"cfbc6a02-4146-4b17-acff-009ec4179915\",\"type\":\"VBar\"},{\"attributes\":{\"callback\":null},\"id\":\"7ada5a56-e482-4f31-a2eb-59b1f7af5e09\",\"type\":\"DataRange1d\"},{\"attributes\":{},\"id\":\"88a3a958-5b0c-4d23-8b54-3db714301412\",\"type\":\"CategoricalTicker\"},{\"attributes\":{\"formatter\":{\"id\":\"4a30c81e-424b-45f1-bea0-9554fd2f1e5f\",\"type\":\"CategoricalTickFormatter\"},\"plot\":{\"id\":\"f8a1790a-4890-4831-b73f-5d0c0f02d004\",\"subtype\":\"Figure\",\"type\":\"Plot\"},\"ticker\":{\"id\":\"88a3a958-5b0c-4d23-8b54-3db714301412\",\"type\":\"CategoricalTicker\"}},\"id\":\"d37e87b2-cff1-4916-b742-b6297ffe8678\",\"type\":\"CategoricalAxis\"},{\"attributes\":{\"bottom\":{\"expr\":{\"id\":\"53063e38-7b71-426f-a86a-2717a0645c10\",\"type\":\"Stack\"}},\"fill_color\":{\"value\":\"#43a2ca\"},\"line_color\":{\"value\":\"#43a2ca\"},\"top\":{\"expr\":{\"id\":\"5a2374e4-204e-474f-a5e0-84de5aa74925\",\"type\":\"Stack\"}},\"width\":{\"value\":0.9},\"x\":{\"field\":\"fruits\"}},\"id\":\"76c10ad3-a690-4f8d-82e5-eb6d0f625cd0\",\"type\":\"VBar\"},{\"attributes\":{},\"id\":\"4a30c81e-424b-45f1-bea0-9554fd2f1e5f\",\"type\":\"CategoricalTickFormatter\"},{\"attributes\":{\"fields\":[\"2015\"]},\"id\":\"5a2374e4-204e-474f-a5e0-84de5aa74925\",\"type\":\"Stack\"},{\"attributes\":{\"fields\":[\"2015\",\"2016\",\"2017\"]},\"id\":\"6d2f8fdd-952a-42f2-8144-df96497600bb\",\"type\":\"Stack\"},{\"attributes\":{},\"id\":\"e7308f63-1f6e-487e-a0d5-1838d0e039b0\",\"type\":\"ResetTool\"},{\"attributes\":{\"label\":{\"value\":\"2017 exports\"},\"renderers\":[{\"id\":\"082ce6df-68d1-49a4-9fd6-2dc90644153c\",\"type\":\"GlyphRenderer\"}]},\"id\":\"1f345e7a-7273-4ea0-933d-4f60ed690327\",\"type\":\"LegendItem\"},{\"attributes\":{},\"id\":\"3ed992b1-eea4-4813-85fa-028d76308d63\",\"type\":\"SaveTool\"},{\"attributes\":{\"bottom\":{\"expr\":{\"id\":\"9a0a758d-22ee-400d-9ba2-01fc60c3c7fe\",\"type\":\"Stack\"}},\"fill_color\":{\"value\":\"#a8ddb5\"},\"line_color\":{\"value\":\"#a8ddb5\"},\"top\":{\"expr\":{\"id\":\"ff1e1d55-44ef-4b99-90b6-76b021d98bc3\",\"type\":\"Stack\"}},\"width\":{\"value\":0.9},\"x\":{\"field\":\"fruits\"}},\"id\":\"08fc4c35-6375-4ba0-9601-fe4a53179cc1\",\"type\":\"VBar\"},{\"attributes\":{\"active_drag\":\"auto\",\"active_inspect\":\"auto\",\"active_scroll\":\"auto\",\"active_tap\":\"auto\",\"tools\":[{\"id\":\"2cce3879-7108-47af-8fd9-071c22f5d5ce\",\"type\":\"PanTool\"},{\"id\":\"60d1b1e8-5f83-43cf-8032-efad842154b6\",\"type\":\"WheelZoomTool\"},{\"id\":\"9230b9e5-8236-4a94-92f6-ecb7ab261a77\",\"type\":\"BoxZoomTool\"},{\"id\":\"3ed992b1-eea4-4813-85fa-028d76308d63\",\"type\":\"SaveTool\"},{\"id\":\"e7308f63-1f6e-487e-a0d5-1838d0e039b0\",\"type\":\"ResetTool\"},{\"id\":\"08c1fc4c-a825-4e4e-be77-b488620e1aa9\",\"type\":\"HelpTool\"}]},\"id\":\"a74c2377-2a22-44a2-9cc3-2b2a9042b09e\",\"type\":\"Toolbar\"},{\"attributes\":{},\"id\":\"60d1b1e8-5f83-43cf-8032-efad842154b6\",\"type\":\"WheelZoomTool\"},{\"attributes\":{\"plot\":{\"id\":\"f8a1790a-4890-4831-b73f-5d0c0f02d004\",\"subtype\":\"Figure\",\"type\":\"Plot\"},\"ticker\":{\"id\":\"88a3a958-5b0c-4d23-8b54-3db714301412\",\"type\":\"CategoricalTicker\"}},\"id\":\"83798206-a140-4c83-b1a4-7c2ce1291487\",\"type\":\"Grid\"},{\"attributes\":{\"data_source\":{\"id\":\"30d7b6ad-f7cc-44f2-ba41-10b6040c5964\",\"type\":\"ColumnDataSource\"},\"glyph\":{\"id\":\"76c10ad3-a690-4f8d-82e5-eb6d0f625cd0\",\"type\":\"VBar\"},\"hover_glyph\":null,\"muted_glyph\":null,\"nonselection_glyph\":{\"id\":\"02fa4cfc-bd1b-4a4e-9247-e35c37a03606\",\"type\":\"VBar\"},\"selection_glyph\":null,\"view\":{\"id\":\"4a20d2b8-bf3e-4254-b1ce-507550941423\",\"type\":\"CDSView\"}},\"id\":\"95b351a2-702f-4517-a0b0-ab54cbb16d89\",\"type\":\"GlyphRenderer\"},{\"attributes\":{},\"id\":\"081875c7-06c1-480b-81b4-0b9dc62b70b1\",\"type\":\"Selection\"},{\"attributes\":{\"callback\":null,\"data\":{\"2015\":[2,1,4,3,2,4],\"2016\":[5,3,4,2,4,6],\"2017\":[3,2,4,4,5,3],\"fruits\":[\"Apples\",\"Pears\",\"Nectarines\",\"Plums\",\"Grapes\",\"Rasberries\"]},\"selected\":{\"id\":\"081875c7-06c1-480b-81b4-0b9dc62b70b1\",\"type\":\"Selection\"},\"selection_policy\":{\"id\":\"5d6f8c43-964c-43a9-86ad-56cbc9c1dadf\",\"type\":\"UnionRenderers\"}},\"id\":\"30d7b6ad-f7cc-44f2-ba41-10b6040c5964\",\"type\":\"ColumnDataSource\"},{\"attributes\":{\"callback\":null,\"factors\":[\"Apples\",\"Pears\",\"Nectarines\",\"Plums\",\"Grapes\",\"Rasberries\"]},\"id\":\"0f6e7fbb-973a-4079-bfc7-581c44b02a49\",\"type\":\"FactorRange\"},{\"attributes\":{\"formatter\":{\"id\":\"7154b17a-e111-48f4-8c18-f186b9119a39\",\"type\":\"BasicTickFormatter\"},\"plot\":{\"id\":\"f8a1790a-4890-4831-b73f-5d0c0f02d004\",\"subtype\":\"Figure\",\"type\":\"Plot\"},\"ticker\":{\"id\":\"5bff8469-f2e8-48eb-924e-923c1f5699e1\",\"type\":\"BasicTicker\"}},\"id\":\"0f1355e6-8279-4207-9517-3e70e79b90c8\",\"type\":\"LinearAxis\"},{\"attributes\":{\"data_source\":{\"id\":\"30d7b6ad-f7cc-44f2-ba41-10b6040c5964\",\"type\":\"ColumnDataSource\"},\"glyph\":{\"id\":\"08fc4c35-6375-4ba0-9601-fe4a53179cc1\",\"type\":\"VBar\"},\"hover_glyph\":null,\"muted_glyph\":null,\"nonselection_glyph\":{\"id\":\"f593d0d3-39b7-4ae8-b7c5-b030cf91067c\",\"type\":\"VBar\"},\"selection_glyph\":null,\"view\":{\"id\":\"4ad1d756-7af5-46bc-bf39-77d2c599b76c\",\"type\":\"CDSView\"}},\"id\":\"909c5cd3-8f61-4189-bd76-42f6abb460a7\",\"type\":\"GlyphRenderer\"},{\"attributes\":{\"plot\":null,\"text\":\"Fruit import/export, by year\"},\"id\":\"cef25a70-94c5-4f67-ad15-ff942b7f71ed\",\"type\":\"Title\"},{\"attributes\":{\"source\":{\"id\":\"30d7b6ad-f7cc-44f2-ba41-10b6040c5964\",\"type\":\"ColumnDataSource\"}},\"id\":\"4ad1d756-7af5-46bc-bf39-77d2c599b76c\",\"type\":\"CDSView\"},{\"attributes\":{\"bottom\":{\"expr\":{\"id\":\"53063e38-7b71-426f-a86a-2717a0645c10\",\"type\":\"Stack\"}},\"fill_alpha\":{\"value\":0.1},\"fill_color\":{\"value\":\"#1f77b4\"},\"line_alpha\":{\"value\":0.1},\"line_color\":{\"value\":\"#1f77b4\"},\"top\":{\"expr\":{\"id\":\"5a2374e4-204e-474f-a5e0-84de5aa74925\",\"type\":\"Stack\"}},\"width\":{\"value\":0.9},\"x\":{\"field\":\"fruits\"}},\"id\":\"02fa4cfc-bd1b-4a4e-9247-e35c37a03606\",\"type\":\"VBar\"},{\"attributes\":{\"source\":{\"id\":\"30d7b6ad-f7cc-44f2-ba41-10b6040c5964\",\"type\":\"ColumnDataSource\"}},\"id\":\"a588166a-0f3c-45dd-af8b-cad356ca0c71\",\"type\":\"CDSView\"},{\"attributes\":{\"label\":{\"value\":\"2015 exports\"},\"renderers\":[{\"id\":\"95b351a2-702f-4517-a0b0-ab54cbb16d89\",\"type\":\"GlyphRenderer\"}]},\"id\":\"11bf28aa-ddb8-4f18-ba47-eefe07c88731\",\"type\":\"LegendItem\"},{\"attributes\":{},\"id\":\"2ae2fbb0-f24c-4b54-a944-ed59da547e81\",\"type\":\"CategoricalScale\"},{\"attributes\":{\"label\":{\"value\":\"2016 exports\"},\"renderers\":[{\"id\":\"909c5cd3-8f61-4189-bd76-42f6abb460a7\",\"type\":\"GlyphRenderer\"}]},\"id\":\"60b03c5a-c6fb-4a9e-aafc-ead18c12c5ae\",\"type\":\"LegendItem\"},{\"attributes\":{\"fields\":[\"2015\"]},\"id\":\"9a0a758d-22ee-400d-9ba2-01fc60c3c7fe\",\"type\":\"Stack\"},{\"attributes\":{\"source\":{\"id\":\"30d7b6ad-f7cc-44f2-ba41-10b6040c5964\",\"type\":\"ColumnDataSource\"}},\"id\":\"4a20d2b8-bf3e-4254-b1ce-507550941423\",\"type\":\"CDSView\"},{\"attributes\":{\"items\":[{\"id\":\"11bf28aa-ddb8-4f18-ba47-eefe07c88731\",\"type\":\"LegendItem\"},{\"id\":\"60b03c5a-c6fb-4a9e-aafc-ead18c12c5ae\",\"type\":\"LegendItem\"},{\"id\":\"1f345e7a-7273-4ea0-933d-4f60ed690327\",\"type\":\"LegendItem\"}],\"plot\":{\"id\":\"f8a1790a-4890-4831-b73f-5d0c0f02d004\",\"subtype\":\"Figure\",\"type\":\"Plot\"}},\"id\":\"b335a18a-efdf-4a80-8087-3ed091eaec14\",\"type\":\"Legend\"},{\"attributes\":{},\"id\":\"a5c33d98-0eb4-409b-a220-d6c28b452d4d\",\"type\":\"LinearScale\"},{\"attributes\":{},\"id\":\"08c1fc4c-a825-4e4e-be77-b488620e1aa9\",\"type\":\"HelpTool\"},{\"attributes\":{\"fields\":[]},\"id\":\"53063e38-7b71-426f-a86a-2717a0645c10\",\"type\":\"Stack\"},{\"attributes\":{\"fields\":[\"2015\",\"2016\"]},\"id\":\"ff1e1d55-44ef-4b99-90b6-76b021d98bc3\",\"type\":\"Stack\"},{\"attributes\":{\"fields\":[\"2015\",\"2016\"]},\"id\":\"ff6dd934-55ac-4717-b038-5f1f8881687c\",\"type\":\"Stack\"},{\"attributes\":{},\"id\":\"7154b17a-e111-48f4-8c18-f186b9119a39\",\"type\":\"BasicTickFormatter\"}],\"root_ids\":[\"f8a1790a-4890-4831-b73f-5d0c0f02d004\"]},\"title\":\"Bokeh Application\",\"version\":\"0.12.16\"}};\n",
       "  var render_items = [{\"docid\":\"7b6a8f27-fcbd-4f8a-a5a4-b1383e7cffd3\",\"elementid\":\"b204e8a9-bf5f-4c45-9531-aef16f83fc40\",\"modelid\":\"f8a1790a-4890-4831-b73f-5d0c0f02d004\"}];\n",
       "  root.Bokeh.embed.embed_items_notebook(docs_json, render_items);\n",
       "\n",
       "  }\n",
       "  if (root.Bokeh !== undefined) {\n",
       "    embed_document(root);\n",
       "  } else {\n",
       "    var attempts = 0;\n",
       "    var timer = setInterval(function(root) {\n",
       "      if (root.Bokeh !== undefined) {\n",
       "        embed_document(root);\n",
       "        clearInterval(timer);\n",
       "      }\n",
       "      attempts++;\n",
       "      if (attempts > 100) {\n",
       "        console.log(\"Bokeh: ERROR: Unable to run BokehJS code because BokehJS library is missing\")\n",
       "        clearInterval(timer);\n",
       "      }\n",
       "    }, 10, root)\n",
       "  }\n",
       "})(window);"
      ],
      "application/vnd.bokehjs_exec.v0+json": ""
     },
     "metadata": {
      "application/vnd.bokehjs_exec.v0+json": {
       "id": "f8a1790a-4890-4831-b73f-5d0c0f02d004"
      }
     },
     "output_type": "display_data"
    }
   ],
   "source": [
    "from bokeh.models import ColumnDataSource\n",
    "from bokeh.palettes import GnBu3, OrRd3\n",
    "\n",
    "years = ['2015', '2016', '2017']\n",
    "fruits = ['Apples', 'Pears', 'Nectarines', 'Plums', 'Grapes', 'Rasberries']\n",
    "\n",
    "exports = {'fruits' : fruits,\n",
    "           '2015'   : [2, 1, 4, 3, 2, 4],\n",
    "           '2016'   : [5, 3, 4, 2, 4, 6],\n",
    "           '2017'   : [3, 2, 4, 4, 5, 3]}\n",
    "\n",
    "p = figure(x_range=fruits, title=\"Fruit import/export, by year\")\n",
    "\n",
    "p.vbar_stack(years, x='fruits', width=0.9, color=GnBu3, source=ColumnDataSource(exports), legend=[\"%s exports\" % x for x in years])\n",
    "\n",
    "show(p)"
   ]
  },
  {
   "cell_type": "code",
   "execution_count": null,
   "metadata": {},
   "outputs": [],
   "source": []
  }
 ],
 "metadata": {
  "kernelspec": {
   "display_name": "Python 3",
   "language": "python",
   "name": "python3"
  },
  "language_info": {
   "codemirror_mode": {
    "name": "ipython",
    "version": 3
   },
   "file_extension": ".py",
   "mimetype": "text/x-python",
   "name": "python",
   "nbconvert_exporter": "python",
   "pygments_lexer": "ipython3",
   "version": "3.6.5"
  }
 },
 "nbformat": 4,
 "nbformat_minor": 2
}
